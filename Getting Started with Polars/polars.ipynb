{
 "cells": [
  {
   "cell_type": "markdown",
   "id": "5c6f3b99-2505-44b2-9747-4f86cbd8deae",
   "metadata": {},
   "source": [
    "# Differences in concepts between Polars and pandas\n",
    "1. Polars does not have a multi-index/index\n",
    "2. Polars exploits the strong support for concurrency in **Rust** to run many operations in parallel. While some operations in pandas are multi-threaded but the core of the library is single-threaded.\n",
    "3. Polars supports eager evaluation and lazy evaluation whereas pandas only supports eager evaluation. "
   ]
  },
  {
   "cell_type": "code",
   "execution_count": 194,
   "id": "9aa6ee29-cdfd-4e4c-afc6-2c33f952afef",
   "metadata": {},
   "outputs": [],
   "source": [
    "import pandas as pd\n",
    "import polars as pl"
   ]
  },
  {
   "cell_type": "code",
   "execution_count": 195,
   "id": "24c977a5-57ca-48ae-b9a4-ee4efe6a1a8a",
   "metadata": {},
   "outputs": [
    {
     "name": "stdout",
     "output_type": "stream",
     "text": [
      "   a  b   c\n",
      "1  2  5  10\n",
      "2  3  6  12\n"
     ]
    }
   ],
   "source": [
    "# Example of creating dataframe in pandas\n",
    "pandas_df = pd.DataFrame({\"a\": [1, 2, 3], \"b\": [4, 5, 6]})\n",
    "pandas_df = pandas_df[pandas_df[\"a\"] > 1]  # Filter rows where 'a' > 1\n",
    "pandas_df[\"c\"] = pandas_df[\"b\"] * 2  # Add a new column\n",
    "print(pandas_df)\n"
   ]
  },
  {
   "cell_type": "code",
   "execution_count": 196,
   "id": "4bc1e7c9-a0f5-48ed-b2f9-42975850a2cd",
   "metadata": {},
   "outputs": [
    {
     "name": "stdout",
     "output_type": "stream",
     "text": [
      "shape: (2, 3)\n",
      "┌─────┬─────┬─────┐\n",
      "│ a   ┆ b   ┆ c   │\n",
      "│ --- ┆ --- ┆ --- │\n",
      "│ i64 ┆ i64 ┆ i64 │\n",
      "╞═════╪═════╪═════╡\n",
      "│ 2   ┆ 5   ┆ 10  │\n",
      "│ 3   ┆ 6   ┆ 12  │\n",
      "└─────┴─────┴─────┘\n"
     ]
    }
   ],
   "source": [
    "# Example of creating dataframe in Polars\n",
    "polars_df = pl.DataFrame({\"a\": [1, 2, 3], \"b\": [4, 5, 6]})\n",
    "lazy_df = polars_df.lazy()  # Convert to a lazy DataFrame\n",
    "result = lazy_df.filter(pl.col(\"a\") > 1).with_columns((pl.col(\"b\") * 2).alias(\"c\"))\n",
    "print(result.collect())  # Triggers execution and optimization"
   ]
  },
  {
   "cell_type": "markdown",
   "id": "11a204d3-f682-4868-91a6-01fc401f1539",
   "metadata": {},
   "source": [
    "# Key syntax differences\n",
    "If your Polars code looks like it could be pandas code, it might run, but it likely runs slower than it should."
   ]
  },
  {
   "cell_type": "code",
   "execution_count": 197,
   "id": "91a137df-7416-40df-b417-cb973e8702df",
   "metadata": {},
   "outputs": [
    {
     "name": "stdout",
     "output_type": "stream",
     "text": [
      "Selected Column:\n",
      " 0    1\n",
      "1    2\n",
      "2    3\n",
      "3    4\n",
      "Name: col1, dtype: int64\n",
      "After Adding Column:\n",
      "    col1  col2 col3  new_col\n",
      "0     1     5    A        2\n",
      "1     2     6    B        4\n",
      "2     3     7    A        6\n",
      "3     4     8    B        8\n",
      "Filtered DataFrame:\n",
      "    col1  col2 col3  new_col\n",
      "2     3     7    A        6\n",
      "3     4     8    B        8\n",
      "After Applying Function:\n",
      "    col1  col2 col3  new_col  squared\n",
      "0     1     5    A        2        1\n",
      "1     2     6    B        4        4\n",
      "2     3     7    A        6        9\n",
      "3     4     8    B        8       16\n",
      "Grouped and Aggregated DataFrame:\n",
      "       sum_col2\n",
      "col3          \n",
      "A           12\n",
      "B           14\n",
      "Sorted DataFrame:\n",
      "    col1  col2 col3  new_col  squared\n",
      "3     4     8    B        8       16\n",
      "2     3     7    A        6        9\n",
      "1     2     6    B        4        4\n",
      "0     1     5    A        2        1\n",
      "Pivot Table:\n",
      " col3    A    B\n",
      "col1          \n",
      "1     5.0  NaN\n",
      "2     NaN  6.0\n",
      "3     7.0  NaN\n",
      "4     NaN  8.0\n",
      "Pandas DataFrame exported to CSV.\n"
     ]
    }
   ],
   "source": [
    "#This is an example to contrast pandas operation with polars operations below\n",
    "import pandas as pd\n",
    "\n",
    "# 1. Create DataFrame\n",
    "pandas_df1 = pd.DataFrame({\n",
    "    \"col1\": [1, 2, 3, 4],\n",
    "    \"col2\": [5, 6, 7, 8],\n",
    "    \"col3\": [\"A\", \"B\", \"A\", \"B\"]\n",
    "})\n",
    "\n",
    "# 2. Select a column\n",
    "selected_col = pandas_df1[\"col1\"]\n",
    "print(\"Selected Column:\\n\", selected_col)\n",
    "\n",
    "# 3. Add a new column\n",
    "pandas_df1[\"new_col\"] = pandas_df1[\"col1\"] * 2\n",
    "print(\"After Adding Column:\\n\", pandas_df1)\n",
    "\n",
    "# 4. Filter rows\n",
    "filtered_df = pandas_df1[pandas_df1[\"col1\"] > 2]\n",
    "print(\"Filtered DataFrame:\\n\", filtered_df)\n",
    "\n",
    "# 5. Apply a function\n",
    "pandas_df1[\"squared\"] = pandas_df1[\"col1\"].apply(lambda x: x ** 2)\n",
    "print(\"After Applying Function:\\n\", pandas_df1)\n",
    "\n",
    "# 6. Group and aggregate\n",
    "grouped_df = pandas_df1.groupby(\"col3\").agg({\"col2\": \"sum\"}).rename(columns={\"col2\": \"sum_col2\"})\n",
    "print(\"Grouped and Aggregated DataFrame:\\n\", grouped_df)\n",
    "\n",
    "# 7. Sort by a column\n",
    "sorted_df = pandas_df1.sort_values(\"col1\", ascending=False)\n",
    "print(\"Sorted DataFrame:\\n\", sorted_df)\n",
    "\n",
    "# 8. Pivot table\n",
    "pivot_df = pandas_df1.pivot_table(values=\"col2\", index=\"col1\", columns=\"col3\", aggfunc=\"first\")\n",
    "print(\"Pivot Table:\\n\", pivot_df)\n",
    "\n",
    "# 9. Export to CSV\n",
    "pandas_df1.to_csv(\"pandas_output.csv\", index=False)\n",
    "print(\"Pandas DataFrame exported to CSV.\")"
   ]
  },
  {
   "cell_type": "code",
   "execution_count": 198,
   "id": "0dca8103-0e15-4d31-8d8a-6df6ba7ba1be",
   "metadata": {},
   "outputs": [
    {
     "name": "stdout",
     "output_type": "stream",
     "text": [
      "Selected Column:\n",
      " shape: (4, 1)\n",
      "┌──────┐\n",
      "│ col1 │\n",
      "│ ---  │\n",
      "│ i64  │\n",
      "╞══════╡\n",
      "│ 1    │\n",
      "│ 2    │\n",
      "│ 3    │\n",
      "│ 4    │\n",
      "└──────┘\n",
      "After Adding Column:\n",
      " shape: (4, 4)\n",
      "┌──────┬──────┬──────┬─────────┐\n",
      "│ col1 ┆ col2 ┆ col3 ┆ new_col │\n",
      "│ ---  ┆ ---  ┆ ---  ┆ ---     │\n",
      "│ i64  ┆ i64  ┆ str  ┆ i64     │\n",
      "╞══════╪══════╪══════╪═════════╡\n",
      "│ 1    ┆ 5    ┆ A    ┆ 2       │\n",
      "│ 2    ┆ 6    ┆ B    ┆ 4       │\n",
      "│ 3    ┆ 7    ┆ A    ┆ 6       │\n",
      "│ 4    ┆ 8    ┆ B    ┆ 8       │\n",
      "└──────┴──────┴──────┴─────────┘\n",
      "Filtered DataFrame:\n",
      " shape: (2, 4)\n",
      "┌──────┬──────┬──────┬─────────┐\n",
      "│ col1 ┆ col2 ┆ col3 ┆ new_col │\n",
      "│ ---  ┆ ---  ┆ ---  ┆ ---     │\n",
      "│ i64  ┆ i64  ┆ str  ┆ i64     │\n",
      "╞══════╪══════╪══════╪═════════╡\n",
      "│ 3    ┆ 7    ┆ A    ┆ 6       │\n",
      "│ 4    ┆ 8    ┆ B    ┆ 8       │\n",
      "└──────┴──────┴──────┴─────────┘\n",
      "After Applying Function:\n",
      " shape: (4, 5)\n",
      "┌──────┬──────┬──────┬─────────┬─────────┐\n",
      "│ col1 ┆ col2 ┆ col3 ┆ new_col ┆ squared │\n",
      "│ ---  ┆ ---  ┆ ---  ┆ ---     ┆ ---     │\n",
      "│ i64  ┆ i64  ┆ str  ┆ i64     ┆ i64     │\n",
      "╞══════╪══════╪══════╪═════════╪═════════╡\n",
      "│ 1    ┆ 5    ┆ A    ┆ 2       ┆ 1       │\n",
      "│ 2    ┆ 6    ┆ B    ┆ 4       ┆ 4       │\n",
      "│ 3    ┆ 7    ┆ A    ┆ 6       ┆ 9       │\n",
      "│ 4    ┆ 8    ┆ B    ┆ 8       ┆ 16      │\n",
      "└──────┴──────┴──────┴─────────┴─────────┘\n",
      "Grouped and Aggregated DataFrame:\n",
      " shape: (2, 2)\n",
      "┌──────┬──────────┐\n",
      "│ col3 ┆ sum_col2 │\n",
      "│ ---  ┆ ---      │\n",
      "│ str  ┆ i64      │\n",
      "╞══════╪══════════╡\n",
      "│ A    ┆ 12       │\n",
      "│ B    ┆ 14       │\n",
      "└──────┴──────────┘\n",
      "Sorted DataFrame:\n",
      " shape: (4, 5)\n",
      "┌──────┬──────┬──────┬─────────┬─────────┐\n",
      "│ col1 ┆ col2 ┆ col3 ┆ new_col ┆ squared │\n",
      "│ ---  ┆ ---  ┆ ---  ┆ ---     ┆ ---     │\n",
      "│ i64  ┆ i64  ┆ str  ┆ i64     ┆ i64     │\n",
      "╞══════╪══════╪══════╪═════════╪═════════╡\n",
      "│ 4    ┆ 8    ┆ B    ┆ 8       ┆ 16      │\n",
      "│ 3    ┆ 7    ┆ A    ┆ 6       ┆ 9       │\n",
      "│ 2    ┆ 6    ┆ B    ┆ 4       ┆ 4       │\n",
      "│ 1    ┆ 5    ┆ A    ┆ 2       ┆ 1       │\n",
      "└──────┴──────┴──────┴─────────┴─────────┘\n",
      "Pivot Table:\n",
      " shape: (4, 3)\n",
      "┌──────┬──────┬──────┐\n",
      "│ col1 ┆ A    ┆ B    │\n",
      "│ ---  ┆ ---  ┆ ---  │\n",
      "│ i64  ┆ i64  ┆ i64  │\n",
      "╞══════╪══════╪══════╡\n",
      "│ 1    ┆ 5    ┆ null │\n",
      "│ 2    ┆ null ┆ 6    │\n",
      "│ 3    ┆ 7    ┆ null │\n",
      "│ 4    ┆ null ┆ 8    │\n",
      "└──────┴──────┴──────┘\n",
      "Polars DataFrame exported to CSV.\n"
     ]
    }
   ],
   "source": [
    "# Mimicking the pandas operations above in polars\n",
    "import polars as pl\n",
    "\n",
    "# 1. Create DataFrame\n",
    "polars_df2 = pl.DataFrame({\n",
    "    \"col1\": [1, 2, 3, 4],\n",
    "    \"col2\": [5, 6, 7, 8],\n",
    "    \"col3\": [\"A\", \"B\", \"A\", \"B\"]\n",
    "})\n",
    "\n",
    "# 2. Select a column\n",
    "selected_col = polars_df2.select(\"col1\")\n",
    "print(\"Selected Column:\\n\", selected_col)\n",
    "\n",
    "# 3. Add a new column\n",
    "polars_df2 = polars_df2.with_columns((polars_df2[\"col1\"] * 2).alias(\"new_col\"))\n",
    "print(\"After Adding Column:\\n\", polars_df2)\n",
    "\n",
    "# 4. Filter rows\n",
    "filtered_df = polars_df2.filter(pl.col(\"col1\") > 2)\n",
    "print(\"Filtered DataFrame:\\n\", filtered_df)\n",
    "\n",
    "# 5. Apply a function\n",
    "polars_df2 = polars_df2.with_columns(\n",
    "    (pl.col(\"col1\") ** 2).alias(\"squared\")\n",
    ")\n",
    "print(\"After Applying Function:\\n\", polars_df2)\n",
    "\n",
    "# 6. Group and aggregate\n",
    "grouped_df = polars_df2.group_by(\"col3\").agg(pl.sum(\"col2\").alias(\"sum_col2\"))\n",
    "print(\"Grouped and Aggregated DataFrame:\\n\", grouped_df)\n",
    "\n",
    "# 7. Sort by a column\n",
    "sorted_df = polars_df2.sort(\"col1\", descending=True)\n",
    "print(\"Sorted DataFrame:\\n\", sorted_df)\n",
    "\n",
    "# 8. Pivot table\n",
    "pivot_df = polars_df2.pivot(values=\"col2\", index=\"col1\", on=\"col3\")\n",
    "print(\"Pivot Table:\\n\", pivot_df)\n",
    "\n",
    "# 9. Export to CSV\n",
    "polars_df2.write_csv(\"polars_output.csv\")\n",
    "print(\"Polars DataFrame exported to CSV.\")\n"
   ]
  },
  {
   "cell_type": "markdown",
   "id": "80e438ee-5b96-4b6e-a540-c96a7a76eef4",
   "metadata": {},
   "source": [
    "## Loading a massive dataset in polars"
   ]
  },
  {
   "cell_type": "code",
   "execution_count": 199,
   "id": "c4bb70f2-5ddd-4bc9-86a7-e51c63e37d37",
   "metadata": {},
   "outputs": [],
   "source": [
    "df = pl.read_csv(\"flight data.csv\")"
   ]
  },
  {
   "cell_type": "code",
   "execution_count": 200,
   "id": "f02ba5b0-6bc5-4884-8bc3-706a7a9666e8",
   "metadata": {},
   "outputs": [
    {
     "data": {
      "text/html": [
       "<div><style>\n",
       ".dataframe > thead > tr,\n",
       ".dataframe > tbody > tr {\n",
       "  text-align: right;\n",
       "  white-space: pre-wrap;\n",
       "}\n",
       "</style>\n",
       "<small>shape: (5, 18)</small><table border=\"1\" class=\"dataframe\"><thead><tr><th>from_airport_code</th><th>from_country</th><th>dest_airport_code</th><th>dest_country</th><th>aircraft_type</th><th>airline_number</th><th>airline_name</th><th>flight_number</th><th>departure_time</th><th>arrival_time</th><th>duration</th><th>stops</th><th>price</th><th>currency</th><th>co2_emissions</th><th>avg_co2_emission_for_this_route</th><th>co2_percentage</th><th>scan_date</th></tr><tr><td>str</td><td>str</td><td>str</td><td>str</td><td>str</td><td>str</td><td>str</td><td>str</td><td>str</td><td>str</td><td>i64</td><td>i64</td><td>f64</td><td>str</td><td>i64</td><td>str</td><td>str</td><td>str</td></tr></thead><tbody><tr><td>&quot;ALG&quot;</td><td>&quot;Algeria&quot;</td><td>&quot;AEP&quot;</td><td>&quot;Argentina&quot;</td><td>&quot;Airbus A318|Canadair RJ 1000|A…</td><td>&quot;multi&quot;</td><td>&quot;[Air France| Iberia| LATAM]&quot;</td><td>&quot;AF1491|AF1491|AF1491|AF1491&quot;</td><td>&quot;2022-04-30 14:30:00&quot;</td><td>&quot;2022-05-01 10:15:00&quot;</td><td>1425</td><td>3</td><td>1279.0</td><td>&quot;USD&quot;</td><td>1320000</td><td>&quot;1320000&quot;</td><td>&quot;0%&quot;</td><td>&quot;2022-04-29 17:52:59&quot;</td></tr><tr><td>&quot;ALG&quot;</td><td>&quot;Algeria&quot;</td><td>&quot;AEP&quot;</td><td>&quot;Argentina&quot;</td><td>&quot;Airbus A318|Canadair RJ 1000|B…</td><td>&quot;multi&quot;</td><td>&quot;[Air France| Iberia| LATAM]&quot;</td><td>&quot;AF1491|AF1491|AF1491|AF1491&quot;</td><td>&quot;2022-04-30 14:30:00&quot;</td><td>&quot;2022-05-01 10:15:00&quot;</td><td>1425</td><td>3</td><td>1279.0</td><td>&quot;USD&quot;</td><td>1195000</td><td>&quot;1320000&quot;</td><td>&quot;-9%&quot;</td><td>&quot;2022-04-29 17:52:59&quot;</td></tr><tr><td>&quot;ALG&quot;</td><td>&quot;Algeria&quot;</td><td>&quot;AEP&quot;</td><td>&quot;Argentina&quot;</td><td>&quot;Airbus A320|Airbus A321|Boeing…</td><td>&quot;multi&quot;</td><td>&quot;[Air France| LATAM]&quot;</td><td>&quot;AF1855|AF1855|AF1855|AF1855&quot;</td><td>&quot;2022-04-30 12:45:00&quot;</td><td>&quot;2022-05-01 10:15:00&quot;</td><td>1530</td><td>3</td><td>1284.0</td><td>&quot;USD&quot;</td><td>1248000</td><td>&quot;1320000&quot;</td><td>&quot;-5%&quot;</td><td>&quot;2022-04-29 17:52:59&quot;</td></tr><tr><td>&quot;ALG&quot;</td><td>&quot;Algeria&quot;</td><td>&quot;AEP&quot;</td><td>&quot;Argentina&quot;</td><td>&quot;Airbus A318|Airbus A320|Boeing…</td><td>&quot;multi&quot;</td><td>&quot;[Air France| LATAM]&quot;</td><td>&quot;AF1491|AF1491|AF1491|AF1491&quot;</td><td>&quot;2022-04-30 14:30:00&quot;</td><td>&quot;2022-05-01 10:15:00&quot;</td><td>1425</td><td>3</td><td>1290.0</td><td>&quot;USD&quot;</td><td>1347000</td><td>&quot;1320000&quot;</td><td>&quot;2%&quot;</td><td>&quot;2022-04-29 17:52:59&quot;</td></tr><tr><td>&quot;ALG&quot;</td><td>&quot;Algeria&quot;</td><td>&quot;AEP&quot;</td><td>&quot;Argentina&quot;</td><td>&quot;Airbus A321neo|Boeing 777|Airb…</td><td>&quot;multi&quot;</td><td>&quot;[Lufthansa| LATAM]&quot;</td><td>&quot;LH1317|LH1317|LH1317&quot;</td><td>&quot;2022-04-30 12:35:00&quot;</td><td>&quot;2022-05-01 10:15:00&quot;</td><td>1540</td><td>2</td><td>1347.0</td><td>&quot;USD&quot;</td><td>1381000</td><td>&quot;1320000&quot;</td><td>&quot;4%&quot;</td><td>&quot;2022-04-29 17:52:59&quot;</td></tr></tbody></table></div>"
      ],
      "text/plain": [
       "shape: (5, 18)\n",
       "┌──────────────┬──────────────┬──────────────┬─────────────┬───┬─────────────┬─────────────┬─────────────┬─────────────┐\n",
       "│ from_airport ┆ from_country ┆ dest_airport ┆ dest_countr ┆ … ┆ co2_emissio ┆ avg_co2_emi ┆ co2_percent ┆ scan_date   │\n",
       "│ _code        ┆ ---          ┆ _code        ┆ y           ┆   ┆ ns          ┆ ssion_for_t ┆ age         ┆ ---         │\n",
       "│ ---          ┆ str          ┆ ---          ┆ ---         ┆   ┆ ---         ┆ his_rout…   ┆ ---         ┆ str         │\n",
       "│ str          ┆              ┆ str          ┆ str         ┆   ┆ i64         ┆ ---         ┆ str         ┆             │\n",
       "│              ┆              ┆              ┆             ┆   ┆             ┆ str         ┆             ┆             │\n",
       "╞══════════════╪══════════════╪══════════════╪═════════════╪═══╪═════════════╪═════════════╪═════════════╪═════════════╡\n",
       "│ ALG          ┆ Algeria      ┆ AEP          ┆ Argentina   ┆ … ┆ 1320000     ┆ 1320000     ┆ 0%          ┆ 2022-04-29  │\n",
       "│              ┆              ┆              ┆             ┆   ┆             ┆             ┆             ┆ 17:52:59    │\n",
       "│ ALG          ┆ Algeria      ┆ AEP          ┆ Argentina   ┆ … ┆ 1195000     ┆ 1320000     ┆ -9%         ┆ 2022-04-29  │\n",
       "│              ┆              ┆              ┆             ┆   ┆             ┆             ┆             ┆ 17:52:59    │\n",
       "│ ALG          ┆ Algeria      ┆ AEP          ┆ Argentina   ┆ … ┆ 1248000     ┆ 1320000     ┆ -5%         ┆ 2022-04-29  │\n",
       "│              ┆              ┆              ┆             ┆   ┆             ┆             ┆             ┆ 17:52:59    │\n",
       "│ ALG          ┆ Algeria      ┆ AEP          ┆ Argentina   ┆ … ┆ 1347000     ┆ 1320000     ┆ 2%          ┆ 2022-04-29  │\n",
       "│              ┆              ┆              ┆             ┆   ┆             ┆             ┆             ┆ 17:52:59    │\n",
       "│ ALG          ┆ Algeria      ┆ AEP          ┆ Argentina   ┆ … ┆ 1381000     ┆ 1320000     ┆ 4%          ┆ 2022-04-29  │\n",
       "│              ┆              ┆              ┆             ┆   ┆             ┆             ┆             ┆ 17:52:59    │\n",
       "└──────────────┴──────────────┴──────────────┴─────────────┴───┴─────────────┴─────────────┴─────────────┴─────────────┘"
      ]
     },
     "execution_count": 200,
     "metadata": {},
     "output_type": "execute_result"
    }
   ],
   "source": [
    "df.head()"
   ]
  },
  {
   "cell_type": "code",
   "execution_count": 201,
   "id": "02b3ed63-a244-4d47-8fe8-0eeb505f8416",
   "metadata": {},
   "outputs": [
    {
     "name": "stdout",
     "output_type": "stream",
     "text": [
      "(998866, 18)\n"
     ]
    }
   ],
   "source": [
    "print(df.shape)"
   ]
  },
  {
   "cell_type": "markdown",
   "id": "3c245879-4ee8-4641-91b4-e9df3bba20fc",
   "metadata": {},
   "source": [
    "#### Finding the number of arrivals by country "
   ]
  },
  {
   "cell_type": "code",
   "execution_count": 202,
   "id": "677b9d9c-913b-43c6-8fb4-82da2ecf821a",
   "metadata": {},
   "outputs": [
    {
     "data": {
      "text/html": [
       "<div><style>\n",
       ".dataframe > thead > tr,\n",
       ".dataframe > tbody > tr {\n",
       "  text-align: right;\n",
       "  white-space: pre-wrap;\n",
       "}\n",
       "</style>\n",
       "<small>shape: (47, 2)</small><table border=\"1\" class=\"dataframe\"><thead><tr><th>dest_country</th><th>number_of_arrivals</th></tr><tr><td>str</td><td>u32</td></tr></thead><tbody><tr><td>&quot;Vietnam&quot;</td><td>9265</td></tr><tr><td>&quot;South Korea&quot;</td><td>12697</td></tr><tr><td>&quot;Thailand&quot;</td><td>15575</td></tr><tr><td>&quot;Greece&quot;</td><td>14625</td></tr><tr><td>&quot;Malaysia&quot;</td><td>11871</td></tr><tr><td>&hellip;</td><td>&hellip;</td></tr><tr><td>&quot;Sweden&quot;</td><td>15621</td></tr><tr><td>&quot;Austria&quot;</td><td>16193</td></tr><tr><td>&quot;Mexico&quot;</td><td>17656</td></tr><tr><td>&quot;China&quot;</td><td>25723</td></tr><tr><td>&quot;Ethiopia&quot;</td><td>6267</td></tr></tbody></table></div>"
      ],
      "text/plain": [
       "shape: (47, 2)\n",
       "┌──────────────┬────────────────────┐\n",
       "│ dest_country ┆ number_of_arrivals │\n",
       "│ ---          ┆ ---                │\n",
       "│ str          ┆ u32                │\n",
       "╞══════════════╪════════════════════╡\n",
       "│ Vietnam      ┆ 9265               │\n",
       "│ South Korea  ┆ 12697              │\n",
       "│ Thailand     ┆ 15575              │\n",
       "│ Greece       ┆ 14625              │\n",
       "│ Malaysia     ┆ 11871              │\n",
       "│ …            ┆ …                  │\n",
       "│ Sweden       ┆ 15621              │\n",
       "│ Austria      ┆ 16193              │\n",
       "│ Mexico       ┆ 17656              │\n",
       "│ China        ┆ 25723              │\n",
       "│ Ethiopia     ┆ 6267               │\n",
       "└──────────────┴────────────────────┘"
      ]
     },
     "execution_count": 202,
     "metadata": {},
     "output_type": "execute_result"
    }
   ],
   "source": [
    "# Finding the number of arrivals by country \n",
    "df.group_by(\"dest_country\").len(name=\"number_of_arrivals\")\n",
    "# (df.group_by(\"dest_country\").len(name=\"number_of_arrivals\")).filter(pl.col('dest_country')=='Belgium')"
   ]
  },
  {
   "cell_type": "markdown",
   "id": "3e4a3bf9-6504-49e4-bcf0-af12a1bcea4c",
   "metadata": {},
   "source": [
    "#### what was the lowest price Algeria to Argentina?"
   ]
  },
  {
   "cell_type": "code",
   "execution_count": 203,
   "id": "f21b01f2-33f2-4a3d-bcd2-bfce1ce758f8",
   "metadata": {},
   "outputs": [
    {
     "data": {
      "text/html": [
       "<div><style>\n",
       ".dataframe > thead > tr,\n",
       ".dataframe > tbody > tr {\n",
       "  text-align: right;\n",
       "  white-space: pre-wrap;\n",
       "}\n",
       "</style>\n",
       "<small>shape: (1, 1)</small><table border=\"1\" class=\"dataframe\"><thead><tr><th>price</th></tr><tr><td>f64</td></tr></thead><tbody><tr><td>1124.0</td></tr></tbody></table></div>"
      ],
      "text/plain": [
       "shape: (1, 1)\n",
       "┌────────┐\n",
       "│ price  │\n",
       "│ ---    │\n",
       "│ f64    │\n",
       "╞════════╡\n",
       "│ 1124.0 │\n",
       "└────────┘"
      ]
     },
     "execution_count": 203,
     "metadata": {},
     "output_type": "execute_result"
    }
   ],
   "source": [
    "df.filter(\n",
    "    (pl.col(\"from_country\") == \"Algeria\") & \n",
    "    (pl.col(\"dest_country\") == \"Argentina\")\n",
    ").select(pl.col(\"price\")).min()"
   ]
  },
  {
   "cell_type": "code",
   "execution_count": 204,
   "id": "10222bca-2412-47e3-ae8f-f6ce9891843c",
   "metadata": {},
   "outputs": [
    {
     "data": {
      "text/html": [
       "<div><style>\n",
       ".dataframe > thead > tr,\n",
       ".dataframe > tbody > tr {\n",
       "  text-align: right;\n",
       "  white-space: pre-wrap;\n",
       "}\n",
       "</style>\n",
       "<small>shape: (1, 18)</small><table border=\"1\" class=\"dataframe\"><thead><tr><th>from_airport_code</th><th>from_country</th><th>dest_airport_code</th><th>dest_country</th><th>aircraft_type</th><th>airline_number</th><th>airline_name</th><th>flight_number</th><th>departure_time</th><th>arrival_time</th><th>duration</th><th>stops</th><th>price</th><th>currency</th><th>co2_emissions</th><th>avg_co2_emission_for_this_route</th><th>co2_percentage</th><th>scan_date</th></tr><tr><td>str</td><td>str</td><td>str</td><td>str</td><td>str</td><td>str</td><td>str</td><td>str</td><td>str</td><td>str</td><td>i64</td><td>i64</td><td>f64</td><td>str</td><td>i64</td><td>str</td><td>str</td><td>str</td></tr></thead><tbody><tr><td>&quot;ALG&quot;</td><td>&quot;Algeria&quot;</td><td>&quot;AEP&quot;</td><td>&quot;Argentina&quot;</td><td>&quot;Canadair RJ 1000|Airbus A330|A…</td><td>&quot;multi&quot;</td><td>&quot;[Iberia| LATAM]&quot;</td><td>&quot;IB8805|IB8805|IB8805&quot;</td><td>&quot;2022-05-02 13:10:00&quot;</td><td>&quot;2022-05-04 10:15:00&quot;</td><td>2945</td><td>2</td><td>1124.0</td><td>&quot;USD&quot;</td><td>1185000</td><td>&quot;1320000&quot;</td><td>&quot;-10%&quot;</td><td>&quot;2022-04-29 17:52:59&quot;</td></tr></tbody></table></div>"
      ],
      "text/plain": [
       "shape: (1, 18)\n",
       "┌──────────────┬──────────────┬──────────────┬─────────────┬───┬─────────────┬─────────────┬─────────────┬─────────────┐\n",
       "│ from_airport ┆ from_country ┆ dest_airport ┆ dest_countr ┆ … ┆ co2_emissio ┆ avg_co2_emi ┆ co2_percent ┆ scan_date   │\n",
       "│ _code        ┆ ---          ┆ _code        ┆ y           ┆   ┆ ns          ┆ ssion_for_t ┆ age         ┆ ---         │\n",
       "│ ---          ┆ str          ┆ ---          ┆ ---         ┆   ┆ ---         ┆ his_rout…   ┆ ---         ┆ str         │\n",
       "│ str          ┆              ┆ str          ┆ str         ┆   ┆ i64         ┆ ---         ┆ str         ┆             │\n",
       "│              ┆              ┆              ┆             ┆   ┆             ┆ str         ┆             ┆             │\n",
       "╞══════════════╪══════════════╪══════════════╪═════════════╪═══╪═════════════╪═════════════╪═════════════╪═════════════╡\n",
       "│ ALG          ┆ Algeria      ┆ AEP          ┆ Argentina   ┆ … ┆ 1185000     ┆ 1320000     ┆ -10%        ┆ 2022-04-29  │\n",
       "│              ┆              ┆              ┆             ┆   ┆             ┆             ┆             ┆ 17:52:59    │\n",
       "└──────────────┴──────────────┴──────────────┴─────────────┴───┴─────────────┴─────────────┴─────────────┴─────────────┘"
      ]
     },
     "execution_count": 204,
     "metadata": {},
     "output_type": "execute_result"
    }
   ],
   "source": [
    "df.filter(\n",
    "    (pl.col(\"from_country\") == \"Algeria\") & \n",
    "    (pl.col(\"dest_country\") == \"Argentina\")\n",
    ").sort(\"price\").head(1)"
   ]
  },
  {
   "cell_type": "markdown",
   "id": "15f63430-2594-4221-8ddd-33b256bbbec9",
   "metadata": {},
   "source": [
    "#### Lowest CO2 Emission Routes"
   ]
  },
  {
   "cell_type": "code",
   "execution_count": 205,
   "id": "87dccbbd-01d2-4038-8e78-694135553075",
   "metadata": {},
   "outputs": [
    {
     "data": {
      "text/html": [
       "<div><style>\n",
       ".dataframe > thead > tr,\n",
       ".dataframe > tbody > tr {\n",
       "  text-align: right;\n",
       "  white-space: pre-wrap;\n",
       "}\n",
       "</style>\n",
       "<small>shape: (5, 4)</small><table border=\"1\" class=\"dataframe\"><thead><tr><th>from_country</th><th>dest_country</th><th>avg_route_emissions</th><th>avg_route_price</th></tr><tr><td>str</td><td>str</td><td>f64</td><td>f64</td></tr></thead><tbody><tr><td>&quot;Germany&quot;</td><td>&quot;Germany&quot;</td><td>178586.700337</td><td>364.449263</td></tr><tr><td>&quot;Australia&quot;</td><td>&quot;Australia&quot;</td><td>182579.146919</td><td>158.570702</td></tr><tr><td>&quot;Dublin&quot;</td><td>&quot;Netherlands&quot;</td><td>207067.336683</td><td>292.993976</td></tr><tr><td>&quot;France&quot;</td><td>&quot;Zurich&quot;</td><td>208685.936152</td><td>358.455488</td></tr><tr><td>&quot;France&quot;</td><td>&quot;Germany&quot;</td><td>210113.832853</td><td>351.054405</td></tr></tbody></table></div>"
      ],
      "text/plain": [
       "shape: (5, 4)\n",
       "┌──────────────┬──────────────┬─────────────────────┬─────────────────┐\n",
       "│ from_country ┆ dest_country ┆ avg_route_emissions ┆ avg_route_price │\n",
       "│ ---          ┆ ---          ┆ ---                 ┆ ---             │\n",
       "│ str          ┆ str          ┆ f64                 ┆ f64             │\n",
       "╞══════════════╪══════════════╪═════════════════════╪═════════════════╡\n",
       "│ Germany      ┆ Germany      ┆ 178586.700337       ┆ 364.449263      │\n",
       "│ Australia    ┆ Australia    ┆ 182579.146919       ┆ 158.570702      │\n",
       "│ Dublin       ┆ Netherlands  ┆ 207067.336683       ┆ 292.993976      │\n",
       "│ France       ┆ Zurich       ┆ 208685.936152       ┆ 358.455488      │\n",
       "│ France       ┆ Germany      ┆ 210113.832853       ┆ 351.054405      │\n",
       "└──────────────┴──────────────┴─────────────────────┴─────────────────┘"
      ]
     },
     "execution_count": 205,
     "metadata": {},
     "output_type": "execute_result"
    }
   ],
   "source": [
    "df.group_by([\"from_country\", \"dest_country\"]).agg([\n",
    "      pl.col(\"co2_emissions\").mean().alias(\"avg_route_emissions\"),\n",
    "      pl.col(\"price\").mean().alias(\"avg_route_price\")\n",
    "  ]).sort(\"avg_route_emissions\", descending=False).head(5)"
   ]
  },
  {
   "cell_type": "markdown",
   "id": "0f8a2740-3239-4597-ac3a-9e5770cb1885",
   "metadata": {},
   "source": [
    "#### Airline Performance Analysis"
   ]
  },
  {
   "cell_type": "code",
   "execution_count": 206,
   "id": "c324450e-2838-4182-bcbe-c739a3f50b12",
   "metadata": {},
   "outputs": [
    {
     "data": {
      "text/html": [
       "<div><style>\n",
       ".dataframe > thead > tr,\n",
       ".dataframe > tbody > tr {\n",
       "  text-align: right;\n",
       "  white-space: pre-wrap;\n",
       "}\n",
       "</style>\n",
       "<small>shape: (10, 7)</small><table border=\"1\" class=\"dataframe\"><thead><tr><th>airline_name</th><th>from_country</th><th>dest_country</th><th>total_flights</th><th>avg_price</th><th>avg_duration</th><th>avg_emissions</th></tr><tr><td>str</td><td>str</td><td>str</td><td>u32</td><td>f64</td><td>f64</td><td>f64</td></tr></thead><tbody><tr><td>&quot;[China Southern]&quot;</td><td>&quot;China&quot;</td><td>&quot;China&quot;</td><td>6537</td><td>552.298914</td><td>716.713324</td><td>277979.807394</td></tr><tr><td>&quot;[Qantas| American]&quot;</td><td>&quot;Australia&quot;</td><td>&quot;United States&quot;</td><td>5996</td><td>1564.790027</td><td>1708.125083</td><td>1.7170e6</td></tr><tr><td>&quot;[American]&quot;</td><td>&quot;Canada&quot;</td><td>&quot;United States&quot;</td><td>4702</td><td>352.552318</td><td>687.07231</td><td>358677.158656</td></tr><tr><td>&quot;[Lufthansa| United]&quot;</td><td>&quot;Germany&quot;</td><td>&quot;United States&quot;</td><td>4488</td><td>1518.45254</td><td>1100.019831</td><td>893181.311329</td></tr><tr><td>&quot;[Azul| United]&quot;</td><td>&quot;Brazil&quot;</td><td>&quot;United States&quot;</td><td>4278</td><td>4690.743104</td><td>1928.774194</td><td>1.7106e6</td></tr><tr><td>&quot;[China Eastern]&quot;</td><td>&quot;China&quot;</td><td>&quot;China&quot;</td><td>3133</td><td>549.357485</td><td>688.249282</td><td>283033.429765</td></tr><tr><td>&quot;[United]&quot;</td><td>&quot;Australia&quot;</td><td>&quot;United States&quot;</td><td>3081</td><td>1264.636157</td><td>1617.304771</td><td>1.5330e6</td></tr><tr><td>&quot;[American]&quot;</td><td>&quot;Columbia&quot;</td><td>&quot;United States&quot;</td><td>2897</td><td>773.778046</td><td>1062.801519</td><td>621938.902313</td></tr><tr><td>&quot;[ANA| United]&quot;</td><td>&quot;China&quot;</td><td>&quot;United States&quot;</td><td>2806</td><td>4139.376336</td><td>1949.121882</td><td>2.0001e6</td></tr><tr><td>&quot;[United]&quot;</td><td>&quot;Canada&quot;</td><td>&quot;United States&quot;</td><td>2530</td><td>359.642688</td><td>695.298024</td><td>387981.027668</td></tr></tbody></table></div>"
      ],
      "text/plain": [
       "shape: (10, 7)\n",
       "┌─────────────────────┬──────────────┬───────────────┬───────────────┬─────────────┬──────────────┬───────────────┐\n",
       "│ airline_name        ┆ from_country ┆ dest_country  ┆ total_flights ┆ avg_price   ┆ avg_duration ┆ avg_emissions │\n",
       "│ ---                 ┆ ---          ┆ ---           ┆ ---           ┆ ---         ┆ ---          ┆ ---           │\n",
       "│ str                 ┆ str          ┆ str           ┆ u32           ┆ f64         ┆ f64          ┆ f64           │\n",
       "╞═════════════════════╪══════════════╪═══════════════╪═══════════════╪═════════════╪══════════════╪═══════════════╡\n",
       "│ [China Southern]    ┆ China        ┆ China         ┆ 6537          ┆ 552.298914  ┆ 716.713324   ┆ 277979.807394 │\n",
       "│ [Qantas| American]  ┆ Australia    ┆ United States ┆ 5996          ┆ 1564.790027 ┆ 1708.125083  ┆ 1.7170e6      │\n",
       "│ [American]          ┆ Canada       ┆ United States ┆ 4702          ┆ 352.552318  ┆ 687.07231    ┆ 358677.158656 │\n",
       "│ [Lufthansa| United] ┆ Germany      ┆ United States ┆ 4488          ┆ 1518.45254  ┆ 1100.019831  ┆ 893181.311329 │\n",
       "│ [Azul| United]      ┆ Brazil       ┆ United States ┆ 4278          ┆ 4690.743104 ┆ 1928.774194  ┆ 1.7106e6      │\n",
       "│ [China Eastern]     ┆ China        ┆ China         ┆ 3133          ┆ 549.357485  ┆ 688.249282   ┆ 283033.429765 │\n",
       "│ [United]            ┆ Australia    ┆ United States ┆ 3081          ┆ 1264.636157 ┆ 1617.304771  ┆ 1.5330e6      │\n",
       "│ [American]          ┆ Columbia     ┆ United States ┆ 2897          ┆ 773.778046  ┆ 1062.801519  ┆ 621938.902313 │\n",
       "│ [ANA| United]       ┆ China        ┆ United States ┆ 2806          ┆ 4139.376336 ┆ 1949.121882  ┆ 2.0001e6      │\n",
       "│ [United]            ┆ Canada       ┆ United States ┆ 2530          ┆ 359.642688  ┆ 695.298024   ┆ 387981.027668 │\n",
       "└─────────────────────┴──────────────┴───────────────┴───────────────┴─────────────┴──────────────┴───────────────┘"
      ]
     },
     "execution_count": 206,
     "metadata": {},
     "output_type": "execute_result"
    }
   ],
   "source": [
    "df.group_by([\"airline_name\", \"from_country\", \"dest_country\"]).agg([\n",
    "      pl.len().alias(\"total_flights\"),\n",
    "      pl.col(\"price\").mean().alias(\"avg_price\"),\n",
    "      pl.col(\"duration\").mean().alias(\"avg_duration\"),\n",
    "      pl.col(\"co2_emissions\").mean().alias(\"avg_emissions\")\n",
    "  ]).sort(\"total_flights\", descending=True).head(10)"
   ]
  },
  {
   "cell_type": "markdown",
   "id": "89bd4bc3-7d3e-4a56-9314-80ed93867232",
   "metadata": {},
   "source": [
    "#### CO2 Emissions by Aircraft Type"
   ]
  },
  {
   "cell_type": "code",
   "execution_count": 207,
   "id": "900bec8d-4dda-42fb-af2c-d95d404c7578",
   "metadata": {},
   "outputs": [
    {
     "data": {
      "text/html": [
       "<div><style>\n",
       ".dataframe > thead > tr,\n",
       ".dataframe > tbody > tr {\n",
       "  text-align: right;\n",
       "  white-space: pre-wrap;\n",
       "}\n",
       "</style>\n",
       "<small>shape: (25_676, 4)</small><table border=\"1\" class=\"dataframe\"><thead><tr><th>aircraft_type</th><th>avg_emissions</th><th>min_emissions</th><th>max_emissions</th></tr><tr><td>str</td><td>f64</td><td>i64</td><td>i64</td></tr></thead><tbody><tr><td>&quot;Boeing 747|Boeing 787|Airbus A…</td><td>3.5116e6</td><td>1359000</td><td>6346000</td></tr><tr><td>&quot;Airbus A220-300 Passenger|Embr…</td><td>604000.0</td><td>604000</td><td>604000</td></tr><tr><td>&quot;Airbus A340|Canadair Reg. Jet&quot;</td><td>957000.0</td><td>957000</td><td>957000</td></tr><tr><td>&quot;Airbus A319|De Havilland-Bomba…</td><td>248000.0</td><td>248000</td><td>248000</td></tr><tr><td>&quot;Boeing 737|Airbus A350|Airbus …</td><td>1.5033e6</td><td>1456000</td><td>1578000</td></tr><tr><td>&hellip;</td><td>&hellip;</td><td>&hellip;</td><td>&hellip;</td></tr><tr><td>&quot;Airbus A318|Airbus A321|Airbus…</td><td>412583.333333</td><td>288000</td><td>605000</td></tr><tr><td>&quot;Airbus A320|Boeing 767|Boeing …</td><td>1.09e6</td><td>1090000</td><td>1090000</td></tr><tr><td>&quot;Boeing 747|Canadair RJ 900|Emb…</td><td>2.6615e6</td><td>1191000</td><td>4132000</td></tr><tr><td>&quot;Airbus A330|Airbus A380|Airbus…</td><td>1.93e6</td><td>1875000</td><td>1985000</td></tr><tr><td>&quot;Boeing 767|Boeing 767|Embraer …</td><td>815236.842105</td><td>689000</td><td>975000</td></tr></tbody></table></div>"
      ],
      "text/plain": [
       "shape: (25_676, 4)\n",
       "┌─────────────────────────────────┬───────────────┬───────────────┬───────────────┐\n",
       "│ aircraft_type                   ┆ avg_emissions ┆ min_emissions ┆ max_emissions │\n",
       "│ ---                             ┆ ---           ┆ ---           ┆ ---           │\n",
       "│ str                             ┆ f64           ┆ i64           ┆ i64           │\n",
       "╞═════════════════════════════════╪═══════════════╪═══════════════╪═══════════════╡\n",
       "│ Boeing 747|Boeing 787|Airbus A… ┆ 3.5116e6      ┆ 1359000       ┆ 6346000       │\n",
       "│ Airbus A220-300 Passenger|Embr… ┆ 604000.0      ┆ 604000        ┆ 604000        │\n",
       "│ Airbus A340|Canadair Reg. Jet   ┆ 957000.0      ┆ 957000        ┆ 957000        │\n",
       "│ Airbus A319|De Havilland-Bomba… ┆ 248000.0      ┆ 248000        ┆ 248000        │\n",
       "│ Boeing 737|Airbus A350|Airbus … ┆ 1.5033e6      ┆ 1456000       ┆ 1578000       │\n",
       "│ …                               ┆ …             ┆ …             ┆ …             │\n",
       "│ Airbus A318|Airbus A321|Airbus… ┆ 412583.333333 ┆ 288000        ┆ 605000        │\n",
       "│ Airbus A320|Boeing 767|Boeing … ┆ 1.09e6        ┆ 1090000       ┆ 1090000       │\n",
       "│ Boeing 747|Canadair RJ 900|Emb… ┆ 2.6615e6      ┆ 1191000       ┆ 4132000       │\n",
       "│ Airbus A330|Airbus A380|Airbus… ┆ 1.93e6        ┆ 1875000       ┆ 1985000       │\n",
       "│ Boeing 767|Boeing 767|Embraer … ┆ 815236.842105 ┆ 689000        ┆ 975000        │\n",
       "└─────────────────────────────────┴───────────────┴───────────────┴───────────────┘"
      ]
     },
     "execution_count": 207,
     "metadata": {},
     "output_type": "execute_result"
    }
   ],
   "source": [
    "df.group_by(\"aircraft_type\").agg([\n",
    "      pl.col(\"co2_emissions\").mean().alias(\"avg_emissions\"),\n",
    "      pl.col(\"co2_emissions\").min().alias(\"min_emissions\"),\n",
    "      pl.col(\"co2_emissions\").max().alias(\"max_emissions\")\n",
    "  ])"
   ]
  },
  {
   "cell_type": "markdown",
   "id": "a910b658-efa3-42c1-b7d9-d7a7924939f3",
   "metadata": {},
   "source": [
    "#### Price and Emissions Correlation"
   ]
  },
  {
   "cell_type": "code",
   "execution_count": 208,
   "id": "3f193ebe-c368-4e52-a03c-9e8b00ee6f7c",
   "metadata": {},
   "outputs": [
    {
     "data": {
      "text/html": [
       "<div><style>\n",
       ".dataframe > thead > tr,\n",
       ".dataframe > tbody > tr {\n",
       "  text-align: right;\n",
       "  white-space: pre-wrap;\n",
       "}\n",
       "</style>\n",
       "<small>shape: (1, 1)</small><table border=\"1\" class=\"dataframe\"><thead><tr><th>price_emissions_correlation</th></tr><tr><td>f64</td></tr></thead><tbody><tr><td>0.724647</td></tr></tbody></table></div>"
      ],
      "text/plain": [
       "shape: (1, 1)\n",
       "┌─────────────────────────────┐\n",
       "│ price_emissions_correlation │\n",
       "│ ---                         │\n",
       "│ f64                         │\n",
       "╞═════════════════════════════╡\n",
       "│ 0.724647                    │\n",
       "└─────────────────────────────┘"
      ]
     },
     "execution_count": 208,
     "metadata": {},
     "output_type": "execute_result"
    }
   ],
   "source": [
    "df.select([\n",
    "    pl.corr(\"price\", \"co2_emissions\").alias(\"price_emissions_correlation\")\n",
    "]) #signifies the strength and direction of the linear relationship between the variables \"price\" and \"co2_emissions\" in the dataset."
   ]
  },
  {
   "cell_type": "markdown",
   "id": "a61b5792-8b03-4fde-8553-f45105e9b202",
   "metadata": {},
   "source": [
    "#### Most Frequent Routes with Stops"
   ]
  },
  {
   "cell_type": "code",
   "execution_count": 209,
   "id": "9174aa23-c6b5-422b-931f-4bf38bb49101",
   "metadata": {},
   "outputs": [
    {
     "data": {
      "text/html": [
       "<div><style>\n",
       ".dataframe > thead > tr,\n",
       ".dataframe > tbody > tr {\n",
       "  text-align: right;\n",
       "  white-space: pre-wrap;\n",
       "}\n",
       "</style>\n",
       "<small>shape: (5, 5)</small><table border=\"1\" class=\"dataframe\"><thead><tr><th>from_country</th><th>dest_country</th><th>stops</th><th>total_flights</th><th>avg_price</th></tr><tr><td>str</td><td>str</td><td>i64</td><td>u32</td><td>f64</td></tr></thead><tbody><tr><td>&quot;China&quot;</td><td>&quot;China&quot;</td><td>1</td><td>15190</td><td>639.148379</td></tr><tr><td>&quot;China&quot;</td><td>&quot;United States&quot;</td><td>2</td><td>15048</td><td>5714.2811</td></tr><tr><td>&quot;Brazil&quot;</td><td>&quot;United States&quot;</td><td>2</td><td>13934</td><td>2630.964475</td></tr><tr><td>&quot;Australia&quot;</td><td>&quot;United States&quot;</td><td>2</td><td>13180</td><td>1519.114264</td></tr><tr><td>&quot;Germany&quot;</td><td>&quot;United States&quot;</td><td>1</td><td>11438</td><td>1630.789561</td></tr></tbody></table></div>"
      ],
      "text/plain": [
       "shape: (5, 5)\n",
       "┌──────────────┬───────────────┬───────┬───────────────┬─────────────┐\n",
       "│ from_country ┆ dest_country  ┆ stops ┆ total_flights ┆ avg_price   │\n",
       "│ ---          ┆ ---           ┆ ---   ┆ ---           ┆ ---         │\n",
       "│ str          ┆ str           ┆ i64   ┆ u32           ┆ f64         │\n",
       "╞══════════════╪═══════════════╪═══════╪═══════════════╪═════════════╡\n",
       "│ China        ┆ China         ┆ 1     ┆ 15190         ┆ 639.148379  │\n",
       "│ China        ┆ United States ┆ 2     ┆ 15048         ┆ 5714.2811   │\n",
       "│ Brazil       ┆ United States ┆ 2     ┆ 13934         ┆ 2630.964475 │\n",
       "│ Australia    ┆ United States ┆ 2     ┆ 13180         ┆ 1519.114264 │\n",
       "│ Germany      ┆ United States ┆ 1     ┆ 11438         ┆ 1630.789561 │\n",
       "└──────────────┴───────────────┴───────┴───────────────┴─────────────┘"
      ]
     },
     "execution_count": 209,
     "metadata": {},
     "output_type": "execute_result"
    }
   ],
   "source": [
    "df.filter(pl.col(\"stops\") > 0).group_by([\"from_country\", \"dest_country\", \"stops\"]).agg([\n",
    "      pl.len().alias(\"total_flights\"),\n",
    "      pl.col(\"price\").mean().alias(\"avg_price\")\n",
    "  ]).sort(\"total_flights\", descending=True).head(5)"
   ]
  },
  {
   "cell_type": "markdown",
   "id": "edb80802-b009-41f3-8d75-7517a771e0ab",
   "metadata": {},
   "source": [
    "#### Lazy Evaluation with Predicate Pushdown"
   ]
  },
  {
   "cell_type": "code",
   "execution_count": 210,
   "id": "c9eef7e0-2779-4a36-9570-9caa9fa668ab",
   "metadata": {},
   "outputs": [
    {
     "data": {
      "text/html": [
       "<div><style>\n",
       ".dataframe > thead > tr,\n",
       ".dataframe > tbody > tr {\n",
       "  text-align: right;\n",
       "  white-space: pre-wrap;\n",
       "}\n",
       "</style>\n",
       "<small>shape: (5, 2)</small><table border=\"1\" class=\"dataframe\"><thead><tr><th>airline_name</th><th>price</th></tr><tr><td>str</td><td>f64</td></tr></thead><tbody><tr><td>&quot;[Air France| Air Algerie]&quot;</td><td>501.0</td></tr><tr><td>&quot;[Norwegian| Lufthansa| Condor]&quot;</td><td>501.0</td></tr><tr><td>&quot;[Volotea| Wizz Air| Tap Air Po…</td><td>501.0</td></tr><tr><td>&quot;[Finnair| French bee]&quot;</td><td>502.0</td></tr><tr><td>&quot;[Aeromexico| Aeromar| Volaris]&quot;</td><td>502.0</td></tr></tbody></table></div>"
      ],
      "text/plain": [
       "shape: (5, 2)\n",
       "┌─────────────────────────────────┬───────┐\n",
       "│ airline_name                    ┆ price │\n",
       "│ ---                             ┆ ---   │\n",
       "│ str                             ┆ f64   │\n",
       "╞═════════════════════════════════╪═══════╡\n",
       "│ [Air France| Air Algerie]       ┆ 501.0 │\n",
       "│ [Norwegian| Lufthansa| Condor]  ┆ 501.0 │\n",
       "│ [Volotea| Wizz Air| Tap Air Po… ┆ 501.0 │\n",
       "│ [Finnair| French bee]           ┆ 502.0 │\n",
       "│ [Aeromexico| Aeromar| Volaris]  ┆ 502.0 │\n",
       "└─────────────────────────────────┴───────┘"
      ]
     },
     "execution_count": 210,
     "metadata": {},
     "output_type": "execute_result"
    }
   ],
   "source": [
    "# Doesn't load entire dataset into memory\n",
    "result = (pl.scan_csv(\"flight data.csv\").filter(pl.col(\"price\") > 500).group_by(\"airline_name\").agg(pl.col(\"price\").mean()).sort(\"price\").head(5))\n",
    "result.collect()"
   ]
  },
  {
   "cell_type": "markdown",
   "id": "e66c0a97-3787-4474-87dd-4a87b7d224c0",
   "metadata": {},
   "source": [
    "# Speed Test"
   ]
  },
  {
   "cell_type": "markdown",
   "id": "5da30e60-431e-4909-b1bf-e37f9b9ac6dd",
   "metadata": {},
   "source": [
    "### Speed using pandas Library"
   ]
  },
  {
   "cell_type": "code",
   "execution_count": 211,
   "id": "22449810-3da7-4cd0-b844-daadaaebdd49",
   "metadata": {},
   "outputs": [
    {
     "name": "stdout",
     "output_type": "stream",
     "text": [
      "3.71 s ± 128 ms per loop (mean ± std. dev. of 7 runs, 1 loop each)\n"
     ]
    }
   ],
   "source": [
    "%%timeit\n",
    "df_pd = pd.read_csv(\"flight data.csv\")\n",
    "df_pd.groupby(\"airline_name\").agg(\n",
    "    {\"duration\":[\"min\",\"mean\",\"max\"], \"price\":[\"min\",\"mean\",\"max\"]}\n",
    ")"
   ]
  },
  {
   "cell_type": "markdown",
   "id": "63302302-fed6-49ce-8463-8fd9d331a512",
   "metadata": {},
   "source": [
    "### Speed test using polars Library"
   ]
  },
  {
   "cell_type": "code",
   "execution_count": 212,
   "id": "1efc841f-5841-4d7a-9884-5b0e02fd51b7",
   "metadata": {},
   "outputs": [
    {
     "name": "stdout",
     "output_type": "stream",
     "text": [
      "517 ms ± 18.8 ms per loop (mean ± std. dev. of 7 runs, 1 loop each)\n"
     ]
    }
   ],
   "source": [
    "%%timeit\n",
    "aggs = (\n",
    "    pl.read_csv(\"flight data.csv\")\n",
    "    .group_by(\"airline_name\")\n",
    "    .agg(\n",
    "        [\n",
    "            pl.col(\"duration\").min().alias(\"duration_min\"),\n",
    "            pl.col(\"duration\").mean().alias(\"duration_mean\"),\n",
    "            pl.col(\"duration\").max().alias(\"duration_max\"),\n",
    "            pl.col(\"price\").min().alias(\"price_min\"),\n",
    "            pl.col(\"price\").mean().alias(\"price_mean\"),\n",
    "            pl.col(\"price\").max().alias(\"price_max\"),\n",
    "        ]\n",
    "    )\n",
    ")"
   ]
  },
  {
   "cell_type": "markdown",
   "id": "7827c02b-b77e-4efc-b5fd-f2bb81df1e45",
   "metadata": {},
   "source": [
    "#### Unique API"
   ]
  },
  {
   "cell_type": "code",
   "execution_count": 213,
   "id": "ac33d11d-4e1a-4b22-878b-c71d9cae5e5d",
   "metadata": {},
   "outputs": [
    {
     "data": {
      "text/plain": [
       "<bound method Series.unique of shape: (998_866,)\n",
       "Series: 'from_airport_code' [str]\n",
       "[\n",
       "\t\"ALG\"\n",
       "\t\"ALG\"\n",
       "\t\"ALG\"\n",
       "\t\"ALG\"\n",
       "\t\"ALG\"\n",
       "\t…\n",
       "\t\"BOM\"\n",
       "\t\"BOM\"\n",
       "\t\"BOM\"\n",
       "\t\"BOM\"\n",
       "\t\"BOM\"\n",
       "]>"
      ]
     },
     "execution_count": 213,
     "metadata": {},
     "output_type": "execute_result"
    }
   ],
   "source": [
    "# Unique API call in pandas style syntax on polars dataframe\n",
    "df['from_airport_code'].unique"
   ]
  },
  {
   "cell_type": "code",
   "execution_count": 214,
   "id": "5eb39037-2d1e-467e-8196-340ccaf37673",
   "metadata": {},
   "outputs": [
    {
     "data": {
      "text/html": [
       "<div><style>\n",
       ".dataframe > thead > tr,\n",
       ".dataframe > tbody > tr {\n",
       "  text-align: right;\n",
       "  white-space: pre-wrap;\n",
       "}\n",
       "</style>\n",
       "<small>shape: (31, 1)</small><table border=\"1\" class=\"dataframe\"><thead><tr><th>from_airport_code</th></tr><tr><td>str</td></tr></thead><tbody><tr><td>&quot;MEL&quot;</td></tr><tr><td>&quot;CGO&quot;</td></tr><tr><td>&quot;PEK&quot;</td></tr><tr><td>&quot;YYZ&quot;</td></tr><tr><td>&quot;ATH&quot;</td></tr><tr><td>&hellip;</td></tr><tr><td>&quot;PVG&quot;</td></tr><tr><td>&quot;BOM&quot;</td></tr><tr><td>&quot;VIE&quot;</td></tr><tr><td>&quot;CTU&quot;</td></tr><tr><td>&quot;DEL&quot;</td></tr></tbody></table></div>"
      ],
      "text/plain": [
       "shape: (31, 1)\n",
       "┌───────────────────┐\n",
       "│ from_airport_code │\n",
       "│ ---               │\n",
       "│ str               │\n",
       "╞═══════════════════╡\n",
       "│ MEL               │\n",
       "│ CGO               │\n",
       "│ PEK               │\n",
       "│ YYZ               │\n",
       "│ ATH               │\n",
       "│ …                 │\n",
       "│ PVG               │\n",
       "│ BOM               │\n",
       "│ VIE               │\n",
       "│ CTU               │\n",
       "│ DEL               │\n",
       "└───────────────────┘"
      ]
     },
     "execution_count": 214,
     "metadata": {},
     "output_type": "execute_result"
    }
   ],
   "source": [
    "# Unique API call in polars style\n",
    "df.select(pl.col('from_airport_code').unique())"
   ]
  },
  {
   "cell_type": "markdown",
   "id": "c4261f15-4bdb-4bd4-9462-7331c335eed0",
   "metadata": {},
   "source": [
    "#### Selecting columns "
   ]
  },
  {
   "cell_type": "code",
   "execution_count": 215,
   "id": "faae278d-43d3-4ed4-ac88-ef8b99b3e931",
   "metadata": {},
   "outputs": [
    {
     "data": {
      "text/html": [
       "<div><style>\n",
       ".dataframe > thead > tr,\n",
       ".dataframe > tbody > tr {\n",
       "  text-align: right;\n",
       "  white-space: pre-wrap;\n",
       "}\n",
       "</style>\n",
       "<small>shape: (998_866, 18)</small><table border=\"1\" class=\"dataframe\"><thead><tr><th>from_airport_code</th><th>from_country</th><th>dest_airport_code</th><th>dest_country</th><th>aircraft_type</th><th>airline_number</th><th>airline_name</th><th>flight_number</th><th>departure_time</th><th>arrival_time</th><th>duration</th><th>stops</th><th>price</th><th>currency</th><th>co2_emissions</th><th>avg_co2_emission_for_this_route</th><th>co2_percentage</th><th>scan_date</th></tr><tr><td>str</td><td>str</td><td>str</td><td>str</td><td>str</td><td>str</td><td>str</td><td>str</td><td>str</td><td>str</td><td>i64</td><td>i64</td><td>f64</td><td>str</td><td>i64</td><td>str</td><td>str</td><td>str</td></tr></thead><tbody><tr><td>&quot;ALG&quot;</td><td>&quot;Algeria&quot;</td><td>&quot;AEP&quot;</td><td>&quot;Argentina&quot;</td><td>&quot;Airbus A318|Canadair RJ 1000|A…</td><td>&quot;multi&quot;</td><td>&quot;[Air France| Iberia| LATAM]&quot;</td><td>&quot;AF1491|AF1491|AF1491|AF1491&quot;</td><td>&quot;2022-04-30 14:30:00&quot;</td><td>&quot;2022-05-01 10:15:00&quot;</td><td>1425</td><td>3</td><td>1279.0</td><td>&quot;USD&quot;</td><td>1320000</td><td>&quot;1320000&quot;</td><td>&quot;0%&quot;</td><td>&quot;2022-04-29 17:52:59&quot;</td></tr><tr><td>&quot;ALG&quot;</td><td>&quot;Algeria&quot;</td><td>&quot;AEP&quot;</td><td>&quot;Argentina&quot;</td><td>&quot;Airbus A318|Canadair RJ 1000|B…</td><td>&quot;multi&quot;</td><td>&quot;[Air France| Iberia| LATAM]&quot;</td><td>&quot;AF1491|AF1491|AF1491|AF1491&quot;</td><td>&quot;2022-04-30 14:30:00&quot;</td><td>&quot;2022-05-01 10:15:00&quot;</td><td>1425</td><td>3</td><td>1279.0</td><td>&quot;USD&quot;</td><td>1195000</td><td>&quot;1320000&quot;</td><td>&quot;-9%&quot;</td><td>&quot;2022-04-29 17:52:59&quot;</td></tr><tr><td>&quot;ALG&quot;</td><td>&quot;Algeria&quot;</td><td>&quot;AEP&quot;</td><td>&quot;Argentina&quot;</td><td>&quot;Airbus A320|Airbus A321|Boeing…</td><td>&quot;multi&quot;</td><td>&quot;[Air France| LATAM]&quot;</td><td>&quot;AF1855|AF1855|AF1855|AF1855&quot;</td><td>&quot;2022-04-30 12:45:00&quot;</td><td>&quot;2022-05-01 10:15:00&quot;</td><td>1530</td><td>3</td><td>1284.0</td><td>&quot;USD&quot;</td><td>1248000</td><td>&quot;1320000&quot;</td><td>&quot;-5%&quot;</td><td>&quot;2022-04-29 17:52:59&quot;</td></tr><tr><td>&quot;ALG&quot;</td><td>&quot;Algeria&quot;</td><td>&quot;AEP&quot;</td><td>&quot;Argentina&quot;</td><td>&quot;Airbus A318|Airbus A320|Boeing…</td><td>&quot;multi&quot;</td><td>&quot;[Air France| LATAM]&quot;</td><td>&quot;AF1491|AF1491|AF1491|AF1491&quot;</td><td>&quot;2022-04-30 14:30:00&quot;</td><td>&quot;2022-05-01 10:15:00&quot;</td><td>1425</td><td>3</td><td>1290.0</td><td>&quot;USD&quot;</td><td>1347000</td><td>&quot;1320000&quot;</td><td>&quot;2%&quot;</td><td>&quot;2022-04-29 17:52:59&quot;</td></tr><tr><td>&quot;ALG&quot;</td><td>&quot;Algeria&quot;</td><td>&quot;AEP&quot;</td><td>&quot;Argentina&quot;</td><td>&quot;Airbus A321neo|Boeing 777|Airb…</td><td>&quot;multi&quot;</td><td>&quot;[Lufthansa| LATAM]&quot;</td><td>&quot;LH1317|LH1317|LH1317&quot;</td><td>&quot;2022-04-30 12:35:00&quot;</td><td>&quot;2022-05-01 10:15:00&quot;</td><td>1540</td><td>2</td><td>1347.0</td><td>&quot;USD&quot;</td><td>1381000</td><td>&quot;1320000&quot;</td><td>&quot;4%&quot;</td><td>&quot;2022-04-29 17:52:59&quot;</td></tr><tr><td>&hellip;</td><td>&hellip;</td><td>&hellip;</td><td>&hellip;</td><td>&hellip;</td><td>&hellip;</td><td>&hellip;</td><td>&hellip;</td><td>&hellip;</td><td>&hellip;</td><td>&hellip;</td><td>&hellip;</td><td>&hellip;</td><td>&hellip;</td><td>&hellip;</td><td>&hellip;</td><td>&hellip;</td><td>&hellip;</td></tr><tr><td>&quot;BOM&quot;</td><td>&quot;India&quot;</td><td>&quot;SYD&quot;</td><td>&quot;Australia&quot;</td><td>&quot;Boeing 777|Airbus A380&quot;</td><td>&quot;EK&quot;</td><td>&quot;[Emirates]&quot;</td><td>&quot;EK503|EK503&quot;</td><td>&quot;2022-05-01 19:20:00&quot;</td><td>&quot;2022-05-02 22:05:00&quot;</td><td>1335</td><td>1</td><td>1317.0</td><td>&quot;USD&quot;</td><td>1567000</td><td>&quot;1133000&quot;</td><td>&quot;38%&quot;</td><td>&quot;2022-04-29 17:52:59&quot;</td></tr><tr><td>&quot;BOM&quot;</td><td>&quot;India&quot;</td><td>&quot;SYD&quot;</td><td>&quot;Australia&quot;</td><td>&quot;Boeing 777|Airbus A380&quot;</td><td>&quot;EK&quot;</td><td>&quot;[Emirates]&quot;</td><td>&quot;EK509|EK509&quot;</td><td>&quot;2022-05-01 22:20:00&quot;</td><td>&quot;2022-05-02 22:05:00&quot;</td><td>1155</td><td>1</td><td>1317.0</td><td>&quot;USD&quot;</td><td>1583000</td><td>&quot;1133000&quot;</td><td>&quot;39%&quot;</td><td>&quot;2022-04-29 17:52:59&quot;</td></tr><tr><td>&quot;BOM&quot;</td><td>&quot;India&quot;</td><td>&quot;SYD&quot;</td><td>&quot;Australia&quot;</td><td>&quot;Airbus A350|Boeing 787|Boeing …</td><td>&quot;multi&quot;</td><td>&quot;[Etihad| Virgin Australia]&quot;</td><td>&quot;EY205|EY205|EY205&quot;</td><td>&quot;2022-05-01 04:35:00&quot;</td><td>&quot;2022-05-02 09:55:00&quot;</td><td>1490</td><td>2</td><td>1328.0</td><td>&quot;USD&quot;</td><td>1354000</td><td>&quot;1133000&quot;</td><td>&quot;19%&quot;</td><td>&quot;2022-04-29 17:52:59&quot;</td></tr><tr><td>&quot;BOM&quot;</td><td>&quot;India&quot;</td><td>&quot;SYD&quot;</td><td>&quot;Australia&quot;</td><td>&quot;Airbus A321 (Sharklets)|Airbus…</td><td>&quot;multi&quot;</td><td>&quot;[Air India| SriLankan]&quot;</td><td>&quot;AI603|AI603|AI603&quot;</td><td>&quot;2022-05-01 06:10:00&quot;</td><td>&quot;2022-05-02 14:55:00&quot;</td><td>1695</td><td>2</td><td>1368.0</td><td>&quot;USD&quot;</td><td>1099000</td><td>&quot;1133000&quot;</td><td>&quot;-2%&quot;</td><td>&quot;2022-04-29 17:52:59&quot;</td></tr><tr><td>&quot;BOM&quot;</td><td>&quot;India&quot;</td><td>&quot;SYD&quot;</td><td>&quot;Australia&quot;</td><td>&quot;Airbus A321 (Sharklets)|Airbus…</td><td>&quot;multi&quot;</td><td>&quot;[Air India| SriLankan]&quot;</td><td>&quot;AI639|AI639|AI639&quot;</td><td>&quot;2022-05-01 09:30:00&quot;</td><td>&quot;2022-05-02 14:55:00&quot;</td><td>1495</td><td>2</td><td>1368.0</td><td>&quot;USD&quot;</td><td>1099000</td><td>&quot;1133000&quot;</td><td>&quot;-2%&quot;</td><td>&quot;2022-04-29 17:52:59&quot;</td></tr></tbody></table></div>"
      ],
      "text/plain": [
       "shape: (998_866, 18)\n",
       "┌──────────────┬──────────────┬──────────────┬─────────────┬───┬─────────────┬─────────────┬─────────────┬─────────────┐\n",
       "│ from_airport ┆ from_country ┆ dest_airport ┆ dest_countr ┆ … ┆ co2_emissio ┆ avg_co2_emi ┆ co2_percent ┆ scan_date   │\n",
       "│ _code        ┆ ---          ┆ _code        ┆ y           ┆   ┆ ns          ┆ ssion_for_t ┆ age         ┆ ---         │\n",
       "│ ---          ┆ str          ┆ ---          ┆ ---         ┆   ┆ ---         ┆ his_rout…   ┆ ---         ┆ str         │\n",
       "│ str          ┆              ┆ str          ┆ str         ┆   ┆ i64         ┆ ---         ┆ str         ┆             │\n",
       "│              ┆              ┆              ┆             ┆   ┆             ┆ str         ┆             ┆             │\n",
       "╞══════════════╪══════════════╪══════════════╪═════════════╪═══╪═════════════╪═════════════╪═════════════╪═════════════╡\n",
       "│ ALG          ┆ Algeria      ┆ AEP          ┆ Argentina   ┆ … ┆ 1320000     ┆ 1320000     ┆ 0%          ┆ 2022-04-29  │\n",
       "│              ┆              ┆              ┆             ┆   ┆             ┆             ┆             ┆ 17:52:59    │\n",
       "│ ALG          ┆ Algeria      ┆ AEP          ┆ Argentina   ┆ … ┆ 1195000     ┆ 1320000     ┆ -9%         ┆ 2022-04-29  │\n",
       "│              ┆              ┆              ┆             ┆   ┆             ┆             ┆             ┆ 17:52:59    │\n",
       "│ ALG          ┆ Algeria      ┆ AEP          ┆ Argentina   ┆ … ┆ 1248000     ┆ 1320000     ┆ -5%         ┆ 2022-04-29  │\n",
       "│              ┆              ┆              ┆             ┆   ┆             ┆             ┆             ┆ 17:52:59    │\n",
       "│ ALG          ┆ Algeria      ┆ AEP          ┆ Argentina   ┆ … ┆ 1347000     ┆ 1320000     ┆ 2%          ┆ 2022-04-29  │\n",
       "│              ┆              ┆              ┆             ┆   ┆             ┆             ┆             ┆ 17:52:59    │\n",
       "│ ALG          ┆ Algeria      ┆ AEP          ┆ Argentina   ┆ … ┆ 1381000     ┆ 1320000     ┆ 4%          ┆ 2022-04-29  │\n",
       "│              ┆              ┆              ┆             ┆   ┆             ┆             ┆             ┆ 17:52:59    │\n",
       "│ …            ┆ …            ┆ …            ┆ …           ┆ … ┆ …           ┆ …           ┆ …           ┆ …           │\n",
       "│ BOM          ┆ India        ┆ SYD          ┆ Australia   ┆ … ┆ 1567000     ┆ 1133000     ┆ 38%         ┆ 2022-04-29  │\n",
       "│              ┆              ┆              ┆             ┆   ┆             ┆             ┆             ┆ 17:52:59    │\n",
       "│ BOM          ┆ India        ┆ SYD          ┆ Australia   ┆ … ┆ 1583000     ┆ 1133000     ┆ 39%         ┆ 2022-04-29  │\n",
       "│              ┆              ┆              ┆             ┆   ┆             ┆             ┆             ┆ 17:52:59    │\n",
       "│ BOM          ┆ India        ┆ SYD          ┆ Australia   ┆ … ┆ 1354000     ┆ 1133000     ┆ 19%         ┆ 2022-04-29  │\n",
       "│              ┆              ┆              ┆             ┆   ┆             ┆             ┆             ┆ 17:52:59    │\n",
       "│ BOM          ┆ India        ┆ SYD          ┆ Australia   ┆ … ┆ 1099000     ┆ 1133000     ┆ -2%         ┆ 2022-04-29  │\n",
       "│              ┆              ┆              ┆             ┆   ┆             ┆             ┆             ┆ 17:52:59    │\n",
       "│ BOM          ┆ India        ┆ SYD          ┆ Australia   ┆ … ┆ 1099000     ┆ 1133000     ┆ -2%         ┆ 2022-04-29  │\n",
       "│              ┆              ┆              ┆             ┆   ┆             ┆             ┆             ┆ 17:52:59    │\n",
       "└──────────────┴──────────────┴──────────────┴─────────────┴───┴─────────────┴─────────────┴─────────────┴─────────────┘"
      ]
     },
     "execution_count": 215,
     "metadata": {},
     "output_type": "execute_result"
    }
   ],
   "source": [
    "df.select(pl.col(\"*\"))"
   ]
  },
  {
   "cell_type": "code",
   "execution_count": 216,
   "id": "f6571847-ef90-479b-a607-17d596f55a51",
   "metadata": {},
   "outputs": [
    {
     "data": {
      "text/html": [
       "<div><style>\n",
       ".dataframe > thead > tr,\n",
       ".dataframe > tbody > tr {\n",
       "  text-align: right;\n",
       "  white-space: pre-wrap;\n",
       "}\n",
       "</style>\n",
       "<small>shape: (998_866, 2)</small><table border=\"1\" class=\"dataframe\"><thead><tr><th>from_airport_code</th><th>dest_country</th></tr><tr><td>str</td><td>str</td></tr></thead><tbody><tr><td>&quot;ALG&quot;</td><td>&quot;Argentina&quot;</td></tr><tr><td>&quot;ALG&quot;</td><td>&quot;Argentina&quot;</td></tr><tr><td>&quot;ALG&quot;</td><td>&quot;Argentina&quot;</td></tr><tr><td>&quot;ALG&quot;</td><td>&quot;Argentina&quot;</td></tr><tr><td>&quot;ALG&quot;</td><td>&quot;Argentina&quot;</td></tr><tr><td>&hellip;</td><td>&hellip;</td></tr><tr><td>&quot;BOM&quot;</td><td>&quot;Australia&quot;</td></tr><tr><td>&quot;BOM&quot;</td><td>&quot;Australia&quot;</td></tr><tr><td>&quot;BOM&quot;</td><td>&quot;Australia&quot;</td></tr><tr><td>&quot;BOM&quot;</td><td>&quot;Australia&quot;</td></tr><tr><td>&quot;BOM&quot;</td><td>&quot;Australia&quot;</td></tr></tbody></table></div>"
      ],
      "text/plain": [
       "shape: (998_866, 2)\n",
       "┌───────────────────┬──────────────┐\n",
       "│ from_airport_code ┆ dest_country │\n",
       "│ ---               ┆ ---          │\n",
       "│ str               ┆ str          │\n",
       "╞═══════════════════╪══════════════╡\n",
       "│ ALG               ┆ Argentina    │\n",
       "│ ALG               ┆ Argentina    │\n",
       "│ ALG               ┆ Argentina    │\n",
       "│ ALG               ┆ Argentina    │\n",
       "│ ALG               ┆ Argentina    │\n",
       "│ …                 ┆ …            │\n",
       "│ BOM               ┆ Australia    │\n",
       "│ BOM               ┆ Australia    │\n",
       "│ BOM               ┆ Australia    │\n",
       "│ BOM               ┆ Australia    │\n",
       "│ BOM               ┆ Australia    │\n",
       "└───────────────────┴──────────────┘"
      ]
     },
     "execution_count": 216,
     "metadata": {},
     "output_type": "execute_result"
    }
   ],
   "source": [
    "df.select(pl.col([\"from_airport_code\", \"dest_country\"]))"
   ]
  },
  {
   "cell_type": "code",
   "execution_count": 217,
   "id": "15346d96-5b19-4466-94ba-f5c6f1905bce",
   "metadata": {},
   "outputs": [
    {
     "data": {
      "text/html": [
       "<div><style>\n",
       ".dataframe > thead > tr,\n",
       ".dataframe > tbody > tr {\n",
       "  text-align: right;\n",
       "  white-space: pre-wrap;\n",
       "}\n",
       "</style>\n",
       "<small>shape: (998_866, 16)</small><table border=\"1\" class=\"dataframe\"><thead><tr><th>from_country</th><th>dest_airport_code</th><th>aircraft_type</th><th>airline_number</th><th>airline_name</th><th>flight_number</th><th>departure_time</th><th>arrival_time</th><th>duration</th><th>stops</th><th>price</th><th>currency</th><th>co2_emissions</th><th>avg_co2_emission_for_this_route</th><th>co2_percentage</th><th>scan_date</th></tr><tr><td>str</td><td>str</td><td>str</td><td>str</td><td>str</td><td>str</td><td>str</td><td>str</td><td>i64</td><td>i64</td><td>f64</td><td>str</td><td>i64</td><td>str</td><td>str</td><td>str</td></tr></thead><tbody><tr><td>&quot;Algeria&quot;</td><td>&quot;AEP&quot;</td><td>&quot;Airbus A318|Canadair RJ 1000|A…</td><td>&quot;multi&quot;</td><td>&quot;[Air France| Iberia| LATAM]&quot;</td><td>&quot;AF1491|AF1491|AF1491|AF1491&quot;</td><td>&quot;2022-04-30 14:30:00&quot;</td><td>&quot;2022-05-01 10:15:00&quot;</td><td>1425</td><td>3</td><td>1279.0</td><td>&quot;USD&quot;</td><td>1320000</td><td>&quot;1320000&quot;</td><td>&quot;0%&quot;</td><td>&quot;2022-04-29 17:52:59&quot;</td></tr><tr><td>&quot;Algeria&quot;</td><td>&quot;AEP&quot;</td><td>&quot;Airbus A318|Canadair RJ 1000|B…</td><td>&quot;multi&quot;</td><td>&quot;[Air France| Iberia| LATAM]&quot;</td><td>&quot;AF1491|AF1491|AF1491|AF1491&quot;</td><td>&quot;2022-04-30 14:30:00&quot;</td><td>&quot;2022-05-01 10:15:00&quot;</td><td>1425</td><td>3</td><td>1279.0</td><td>&quot;USD&quot;</td><td>1195000</td><td>&quot;1320000&quot;</td><td>&quot;-9%&quot;</td><td>&quot;2022-04-29 17:52:59&quot;</td></tr><tr><td>&quot;Algeria&quot;</td><td>&quot;AEP&quot;</td><td>&quot;Airbus A320|Airbus A321|Boeing…</td><td>&quot;multi&quot;</td><td>&quot;[Air France| LATAM]&quot;</td><td>&quot;AF1855|AF1855|AF1855|AF1855&quot;</td><td>&quot;2022-04-30 12:45:00&quot;</td><td>&quot;2022-05-01 10:15:00&quot;</td><td>1530</td><td>3</td><td>1284.0</td><td>&quot;USD&quot;</td><td>1248000</td><td>&quot;1320000&quot;</td><td>&quot;-5%&quot;</td><td>&quot;2022-04-29 17:52:59&quot;</td></tr><tr><td>&quot;Algeria&quot;</td><td>&quot;AEP&quot;</td><td>&quot;Airbus A318|Airbus A320|Boeing…</td><td>&quot;multi&quot;</td><td>&quot;[Air France| LATAM]&quot;</td><td>&quot;AF1491|AF1491|AF1491|AF1491&quot;</td><td>&quot;2022-04-30 14:30:00&quot;</td><td>&quot;2022-05-01 10:15:00&quot;</td><td>1425</td><td>3</td><td>1290.0</td><td>&quot;USD&quot;</td><td>1347000</td><td>&quot;1320000&quot;</td><td>&quot;2%&quot;</td><td>&quot;2022-04-29 17:52:59&quot;</td></tr><tr><td>&quot;Algeria&quot;</td><td>&quot;AEP&quot;</td><td>&quot;Airbus A321neo|Boeing 777|Airb…</td><td>&quot;multi&quot;</td><td>&quot;[Lufthansa| LATAM]&quot;</td><td>&quot;LH1317|LH1317|LH1317&quot;</td><td>&quot;2022-04-30 12:35:00&quot;</td><td>&quot;2022-05-01 10:15:00&quot;</td><td>1540</td><td>2</td><td>1347.0</td><td>&quot;USD&quot;</td><td>1381000</td><td>&quot;1320000&quot;</td><td>&quot;4%&quot;</td><td>&quot;2022-04-29 17:52:59&quot;</td></tr><tr><td>&hellip;</td><td>&hellip;</td><td>&hellip;</td><td>&hellip;</td><td>&hellip;</td><td>&hellip;</td><td>&hellip;</td><td>&hellip;</td><td>&hellip;</td><td>&hellip;</td><td>&hellip;</td><td>&hellip;</td><td>&hellip;</td><td>&hellip;</td><td>&hellip;</td><td>&hellip;</td></tr><tr><td>&quot;India&quot;</td><td>&quot;SYD&quot;</td><td>&quot;Boeing 777|Airbus A380&quot;</td><td>&quot;EK&quot;</td><td>&quot;[Emirates]&quot;</td><td>&quot;EK503|EK503&quot;</td><td>&quot;2022-05-01 19:20:00&quot;</td><td>&quot;2022-05-02 22:05:00&quot;</td><td>1335</td><td>1</td><td>1317.0</td><td>&quot;USD&quot;</td><td>1567000</td><td>&quot;1133000&quot;</td><td>&quot;38%&quot;</td><td>&quot;2022-04-29 17:52:59&quot;</td></tr><tr><td>&quot;India&quot;</td><td>&quot;SYD&quot;</td><td>&quot;Boeing 777|Airbus A380&quot;</td><td>&quot;EK&quot;</td><td>&quot;[Emirates]&quot;</td><td>&quot;EK509|EK509&quot;</td><td>&quot;2022-05-01 22:20:00&quot;</td><td>&quot;2022-05-02 22:05:00&quot;</td><td>1155</td><td>1</td><td>1317.0</td><td>&quot;USD&quot;</td><td>1583000</td><td>&quot;1133000&quot;</td><td>&quot;39%&quot;</td><td>&quot;2022-04-29 17:52:59&quot;</td></tr><tr><td>&quot;India&quot;</td><td>&quot;SYD&quot;</td><td>&quot;Airbus A350|Boeing 787|Boeing …</td><td>&quot;multi&quot;</td><td>&quot;[Etihad| Virgin Australia]&quot;</td><td>&quot;EY205|EY205|EY205&quot;</td><td>&quot;2022-05-01 04:35:00&quot;</td><td>&quot;2022-05-02 09:55:00&quot;</td><td>1490</td><td>2</td><td>1328.0</td><td>&quot;USD&quot;</td><td>1354000</td><td>&quot;1133000&quot;</td><td>&quot;19%&quot;</td><td>&quot;2022-04-29 17:52:59&quot;</td></tr><tr><td>&quot;India&quot;</td><td>&quot;SYD&quot;</td><td>&quot;Airbus A321 (Sharklets)|Airbus…</td><td>&quot;multi&quot;</td><td>&quot;[Air India| SriLankan]&quot;</td><td>&quot;AI603|AI603|AI603&quot;</td><td>&quot;2022-05-01 06:10:00&quot;</td><td>&quot;2022-05-02 14:55:00&quot;</td><td>1695</td><td>2</td><td>1368.0</td><td>&quot;USD&quot;</td><td>1099000</td><td>&quot;1133000&quot;</td><td>&quot;-2%&quot;</td><td>&quot;2022-04-29 17:52:59&quot;</td></tr><tr><td>&quot;India&quot;</td><td>&quot;SYD&quot;</td><td>&quot;Airbus A321 (Sharklets)|Airbus…</td><td>&quot;multi&quot;</td><td>&quot;[Air India| SriLankan]&quot;</td><td>&quot;AI639|AI639|AI639&quot;</td><td>&quot;2022-05-01 09:30:00&quot;</td><td>&quot;2022-05-02 14:55:00&quot;</td><td>1495</td><td>2</td><td>1368.0</td><td>&quot;USD&quot;</td><td>1099000</td><td>&quot;1133000&quot;</td><td>&quot;-2%&quot;</td><td>&quot;2022-04-29 17:52:59&quot;</td></tr></tbody></table></div>"
      ],
      "text/plain": [
       "shape: (998_866, 16)\n",
       "┌──────────────┬──────────────┬──────────────┬─────────────┬───┬─────────────┬─────────────┬─────────────┬─────────────┐\n",
       "│ from_country ┆ dest_airport ┆ aircraft_typ ┆ airline_num ┆ … ┆ co2_emissio ┆ avg_co2_emi ┆ co2_percent ┆ scan_date   │\n",
       "│ ---          ┆ _code        ┆ e            ┆ ber         ┆   ┆ ns          ┆ ssion_for_t ┆ age         ┆ ---         │\n",
       "│ str          ┆ ---          ┆ ---          ┆ ---         ┆   ┆ ---         ┆ his_rout…   ┆ ---         ┆ str         │\n",
       "│              ┆ str          ┆ str          ┆ str         ┆   ┆ i64         ┆ ---         ┆ str         ┆             │\n",
       "│              ┆              ┆              ┆             ┆   ┆             ┆ str         ┆             ┆             │\n",
       "╞══════════════╪══════════════╪══════════════╪═════════════╪═══╪═════════════╪═════════════╪═════════════╪═════════════╡\n",
       "│ Algeria      ┆ AEP          ┆ Airbus A318| ┆ multi       ┆ … ┆ 1320000     ┆ 1320000     ┆ 0%          ┆ 2022-04-29  │\n",
       "│              ┆              ┆ Canadair RJ  ┆             ┆   ┆             ┆             ┆             ┆ 17:52:59    │\n",
       "│              ┆              ┆ 1000|A…      ┆             ┆   ┆             ┆             ┆             ┆             │\n",
       "│ Algeria      ┆ AEP          ┆ Airbus A318| ┆ multi       ┆ … ┆ 1195000     ┆ 1320000     ┆ -9%         ┆ 2022-04-29  │\n",
       "│              ┆              ┆ Canadair RJ  ┆             ┆   ┆             ┆             ┆             ┆ 17:52:59    │\n",
       "│              ┆              ┆ 1000|B…      ┆             ┆   ┆             ┆             ┆             ┆             │\n",
       "│ Algeria      ┆ AEP          ┆ Airbus       ┆ multi       ┆ … ┆ 1248000     ┆ 1320000     ┆ -5%         ┆ 2022-04-29  │\n",
       "│              ┆              ┆ A320|Airbus  ┆             ┆   ┆             ┆             ┆             ┆ 17:52:59    │\n",
       "│              ┆              ┆ A321|Boeing… ┆             ┆   ┆             ┆             ┆             ┆             │\n",
       "│ Algeria      ┆ AEP          ┆ Airbus       ┆ multi       ┆ … ┆ 1347000     ┆ 1320000     ┆ 2%          ┆ 2022-04-29  │\n",
       "│              ┆              ┆ A318|Airbus  ┆             ┆   ┆             ┆             ┆             ┆ 17:52:59    │\n",
       "│              ┆              ┆ A320|Boeing… ┆             ┆   ┆             ┆             ┆             ┆             │\n",
       "│ Algeria      ┆ AEP          ┆ Airbus A321n ┆ multi       ┆ … ┆ 1381000     ┆ 1320000     ┆ 4%          ┆ 2022-04-29  │\n",
       "│              ┆              ┆ eo|Boeing    ┆             ┆   ┆             ┆             ┆             ┆ 17:52:59    │\n",
       "│              ┆              ┆ 777|Airb…    ┆             ┆   ┆             ┆             ┆             ┆             │\n",
       "│ …            ┆ …            ┆ …            ┆ …           ┆ … ┆ …           ┆ …           ┆ …           ┆ …           │\n",
       "│ India        ┆ SYD          ┆ Boeing       ┆ EK          ┆ … ┆ 1567000     ┆ 1133000     ┆ 38%         ┆ 2022-04-29  │\n",
       "│              ┆              ┆ 777|Airbus   ┆             ┆   ┆             ┆             ┆             ┆ 17:52:59    │\n",
       "│              ┆              ┆ A380         ┆             ┆   ┆             ┆             ┆             ┆             │\n",
       "│ India        ┆ SYD          ┆ Boeing       ┆ EK          ┆ … ┆ 1583000     ┆ 1133000     ┆ 39%         ┆ 2022-04-29  │\n",
       "│              ┆              ┆ 777|Airbus   ┆             ┆   ┆             ┆             ┆             ┆ 17:52:59    │\n",
       "│              ┆              ┆ A380         ┆             ┆   ┆             ┆             ┆             ┆             │\n",
       "│ India        ┆ SYD          ┆ Airbus       ┆ multi       ┆ … ┆ 1354000     ┆ 1133000     ┆ 19%         ┆ 2022-04-29  │\n",
       "│              ┆              ┆ A350|Boeing  ┆             ┆   ┆             ┆             ┆             ┆ 17:52:59    │\n",
       "│              ┆              ┆ 787|Boeing … ┆             ┆   ┆             ┆             ┆             ┆             │\n",
       "│ India        ┆ SYD          ┆ Airbus A321  ┆ multi       ┆ … ┆ 1099000     ┆ 1133000     ┆ -2%         ┆ 2022-04-29  │\n",
       "│              ┆              ┆ (Sharklets)| ┆             ┆   ┆             ┆             ┆             ┆ 17:52:59    │\n",
       "│              ┆              ┆ Airbus…      ┆             ┆   ┆             ┆             ┆             ┆             │\n",
       "│ India        ┆ SYD          ┆ Airbus A321  ┆ multi       ┆ … ┆ 1099000     ┆ 1133000     ┆ -2%         ┆ 2022-04-29  │\n",
       "│              ┆              ┆ (Sharklets)| ┆             ┆   ┆             ┆             ┆             ┆ 17:52:59    │\n",
       "│              ┆              ┆ Airbus…      ┆             ┆   ┆             ┆             ┆             ┆             │\n",
       "└──────────────┴──────────────┴──────────────┴─────────────┴───┴─────────────┴─────────────┴─────────────┴─────────────┘"
      ]
     },
     "execution_count": 217,
     "metadata": {},
     "output_type": "execute_result"
    }
   ],
   "source": [
    "df.select(pl.exclude([\"from_airport_code\", \"dest_country\"]))"
   ]
  },
  {
   "cell_type": "markdown",
   "id": "872bec60-f04b-4ef9-a07e-41aa388bf485",
   "metadata": {},
   "source": [
    "#### Null operations"
   ]
  },
  {
   "cell_type": "code",
   "execution_count": 218,
   "id": "1e6d4b53-7450-41c1-8924-d8e4ba10b137",
   "metadata": {},
   "outputs": [
    {
     "data": {
      "text/html": [
       "<div><style>\n",
       ".dataframe > thead > tr,\n",
       ".dataframe > tbody > tr {\n",
       "  text-align: right;\n",
       "  white-space: pre-wrap;\n",
       "}\n",
       "</style>\n",
       "<small>shape: (2, 1)</small><table border=\"1\" class=\"dataframe\"><thead><tr><th>co2_emissions</th></tr><tr><td>bool</td></tr></thead><tbody><tr><td>false</td></tr><tr><td>true</td></tr></tbody></table></div>"
      ],
      "text/plain": [
       "shape: (2, 1)\n",
       "┌───────────────┐\n",
       "│ co2_emissions │\n",
       "│ ---           │\n",
       "│ bool          │\n",
       "╞═══════════════╡\n",
       "│ false         │\n",
       "│ true          │\n",
       "└───────────────┘"
      ]
     },
     "execution_count": 218,
     "metadata": {},
     "output_type": "execute_result"
    }
   ],
   "source": [
    "df.select(pl.col(\"co2_emissions\").is_null().unique())"
   ]
  },
  {
   "cell_type": "code",
   "execution_count": 219,
   "id": "23029251-a4c5-4091-a350-c36cbcb666ae",
   "metadata": {},
   "outputs": [
    {
     "data": {
      "text/html": [
       "<div><style>\n",
       ".dataframe > thead > tr,\n",
       ".dataframe > tbody > tr {\n",
       "  text-align: right;\n",
       "  white-space: pre-wrap;\n",
       "}\n",
       "</style>\n",
       "<small>shape: (992_718, 18)</small><table border=\"1\" class=\"dataframe\"><thead><tr><th>from_airport_code</th><th>from_country</th><th>dest_airport_code</th><th>dest_country</th><th>aircraft_type</th><th>airline_number</th><th>airline_name</th><th>flight_number</th><th>departure_time</th><th>arrival_time</th><th>duration</th><th>stops</th><th>price</th><th>currency</th><th>co2_emissions</th><th>avg_co2_emission_for_this_route</th><th>co2_percentage</th><th>scan_date</th></tr><tr><td>str</td><td>str</td><td>str</td><td>str</td><td>str</td><td>str</td><td>str</td><td>str</td><td>str</td><td>str</td><td>i64</td><td>i64</td><td>f64</td><td>str</td><td>i64</td><td>str</td><td>str</td><td>str</td></tr></thead><tbody><tr><td>&quot;ALG&quot;</td><td>&quot;Algeria&quot;</td><td>&quot;AEP&quot;</td><td>&quot;Argentina&quot;</td><td>&quot;Airbus A318|Canadair RJ 1000|A…</td><td>&quot;multi&quot;</td><td>&quot;[Air France| Iberia| LATAM]&quot;</td><td>&quot;AF1491|AF1491|AF1491|AF1491&quot;</td><td>&quot;2022-04-30 14:30:00&quot;</td><td>&quot;2022-05-01 10:15:00&quot;</td><td>1425</td><td>3</td><td>1279.0</td><td>&quot;USD&quot;</td><td>1320000</td><td>&quot;1320000&quot;</td><td>&quot;0%&quot;</td><td>&quot;2022-04-29 17:52:59&quot;</td></tr><tr><td>&quot;ALG&quot;</td><td>&quot;Algeria&quot;</td><td>&quot;AEP&quot;</td><td>&quot;Argentina&quot;</td><td>&quot;Airbus A318|Canadair RJ 1000|B…</td><td>&quot;multi&quot;</td><td>&quot;[Air France| Iberia| LATAM]&quot;</td><td>&quot;AF1491|AF1491|AF1491|AF1491&quot;</td><td>&quot;2022-04-30 14:30:00&quot;</td><td>&quot;2022-05-01 10:15:00&quot;</td><td>1425</td><td>3</td><td>1279.0</td><td>&quot;USD&quot;</td><td>1195000</td><td>&quot;1320000&quot;</td><td>&quot;-9%&quot;</td><td>&quot;2022-04-29 17:52:59&quot;</td></tr><tr><td>&quot;ALG&quot;</td><td>&quot;Algeria&quot;</td><td>&quot;AEP&quot;</td><td>&quot;Argentina&quot;</td><td>&quot;Airbus A320|Airbus A321|Boeing…</td><td>&quot;multi&quot;</td><td>&quot;[Air France| LATAM]&quot;</td><td>&quot;AF1855|AF1855|AF1855|AF1855&quot;</td><td>&quot;2022-04-30 12:45:00&quot;</td><td>&quot;2022-05-01 10:15:00&quot;</td><td>1530</td><td>3</td><td>1284.0</td><td>&quot;USD&quot;</td><td>1248000</td><td>&quot;1320000&quot;</td><td>&quot;-5%&quot;</td><td>&quot;2022-04-29 17:52:59&quot;</td></tr><tr><td>&quot;ALG&quot;</td><td>&quot;Algeria&quot;</td><td>&quot;AEP&quot;</td><td>&quot;Argentina&quot;</td><td>&quot;Airbus A318|Airbus A320|Boeing…</td><td>&quot;multi&quot;</td><td>&quot;[Air France| LATAM]&quot;</td><td>&quot;AF1491|AF1491|AF1491|AF1491&quot;</td><td>&quot;2022-04-30 14:30:00&quot;</td><td>&quot;2022-05-01 10:15:00&quot;</td><td>1425</td><td>3</td><td>1290.0</td><td>&quot;USD&quot;</td><td>1347000</td><td>&quot;1320000&quot;</td><td>&quot;2%&quot;</td><td>&quot;2022-04-29 17:52:59&quot;</td></tr><tr><td>&quot;ALG&quot;</td><td>&quot;Algeria&quot;</td><td>&quot;AEP&quot;</td><td>&quot;Argentina&quot;</td><td>&quot;Airbus A321neo|Boeing 777|Airb…</td><td>&quot;multi&quot;</td><td>&quot;[Lufthansa| LATAM]&quot;</td><td>&quot;LH1317|LH1317|LH1317&quot;</td><td>&quot;2022-04-30 12:35:00&quot;</td><td>&quot;2022-05-01 10:15:00&quot;</td><td>1540</td><td>2</td><td>1347.0</td><td>&quot;USD&quot;</td><td>1381000</td><td>&quot;1320000&quot;</td><td>&quot;4%&quot;</td><td>&quot;2022-04-29 17:52:59&quot;</td></tr><tr><td>&hellip;</td><td>&hellip;</td><td>&hellip;</td><td>&hellip;</td><td>&hellip;</td><td>&hellip;</td><td>&hellip;</td><td>&hellip;</td><td>&hellip;</td><td>&hellip;</td><td>&hellip;</td><td>&hellip;</td><td>&hellip;</td><td>&hellip;</td><td>&hellip;</td><td>&hellip;</td><td>&hellip;</td><td>&hellip;</td></tr><tr><td>&quot;BOM&quot;</td><td>&quot;India&quot;</td><td>&quot;SYD&quot;</td><td>&quot;Australia&quot;</td><td>&quot;Boeing 777|Airbus A380&quot;</td><td>&quot;EK&quot;</td><td>&quot;[Emirates]&quot;</td><td>&quot;EK503|EK503&quot;</td><td>&quot;2022-05-01 19:20:00&quot;</td><td>&quot;2022-05-02 22:05:00&quot;</td><td>1335</td><td>1</td><td>1317.0</td><td>&quot;USD&quot;</td><td>1567000</td><td>&quot;1133000&quot;</td><td>&quot;38%&quot;</td><td>&quot;2022-04-29 17:52:59&quot;</td></tr><tr><td>&quot;BOM&quot;</td><td>&quot;India&quot;</td><td>&quot;SYD&quot;</td><td>&quot;Australia&quot;</td><td>&quot;Boeing 777|Airbus A380&quot;</td><td>&quot;EK&quot;</td><td>&quot;[Emirates]&quot;</td><td>&quot;EK509|EK509&quot;</td><td>&quot;2022-05-01 22:20:00&quot;</td><td>&quot;2022-05-02 22:05:00&quot;</td><td>1155</td><td>1</td><td>1317.0</td><td>&quot;USD&quot;</td><td>1583000</td><td>&quot;1133000&quot;</td><td>&quot;39%&quot;</td><td>&quot;2022-04-29 17:52:59&quot;</td></tr><tr><td>&quot;BOM&quot;</td><td>&quot;India&quot;</td><td>&quot;SYD&quot;</td><td>&quot;Australia&quot;</td><td>&quot;Airbus A350|Boeing 787|Boeing …</td><td>&quot;multi&quot;</td><td>&quot;[Etihad| Virgin Australia]&quot;</td><td>&quot;EY205|EY205|EY205&quot;</td><td>&quot;2022-05-01 04:35:00&quot;</td><td>&quot;2022-05-02 09:55:00&quot;</td><td>1490</td><td>2</td><td>1328.0</td><td>&quot;USD&quot;</td><td>1354000</td><td>&quot;1133000&quot;</td><td>&quot;19%&quot;</td><td>&quot;2022-04-29 17:52:59&quot;</td></tr><tr><td>&quot;BOM&quot;</td><td>&quot;India&quot;</td><td>&quot;SYD&quot;</td><td>&quot;Australia&quot;</td><td>&quot;Airbus A321 (Sharklets)|Airbus…</td><td>&quot;multi&quot;</td><td>&quot;[Air India| SriLankan]&quot;</td><td>&quot;AI603|AI603|AI603&quot;</td><td>&quot;2022-05-01 06:10:00&quot;</td><td>&quot;2022-05-02 14:55:00&quot;</td><td>1695</td><td>2</td><td>1368.0</td><td>&quot;USD&quot;</td><td>1099000</td><td>&quot;1133000&quot;</td><td>&quot;-2%&quot;</td><td>&quot;2022-04-29 17:52:59&quot;</td></tr><tr><td>&quot;BOM&quot;</td><td>&quot;India&quot;</td><td>&quot;SYD&quot;</td><td>&quot;Australia&quot;</td><td>&quot;Airbus A321 (Sharklets)|Airbus…</td><td>&quot;multi&quot;</td><td>&quot;[Air India| SriLankan]&quot;</td><td>&quot;AI639|AI639|AI639&quot;</td><td>&quot;2022-05-01 09:30:00&quot;</td><td>&quot;2022-05-02 14:55:00&quot;</td><td>1495</td><td>2</td><td>1368.0</td><td>&quot;USD&quot;</td><td>1099000</td><td>&quot;1133000&quot;</td><td>&quot;-2%&quot;</td><td>&quot;2022-04-29 17:52:59&quot;</td></tr></tbody></table></div>"
      ],
      "text/plain": [
       "shape: (992_718, 18)\n",
       "┌──────────────┬──────────────┬──────────────┬─────────────┬───┬─────────────┬─────────────┬─────────────┬─────────────┐\n",
       "│ from_airport ┆ from_country ┆ dest_airport ┆ dest_countr ┆ … ┆ co2_emissio ┆ avg_co2_emi ┆ co2_percent ┆ scan_date   │\n",
       "│ _code        ┆ ---          ┆ _code        ┆ y           ┆   ┆ ns          ┆ ssion_for_t ┆ age         ┆ ---         │\n",
       "│ ---          ┆ str          ┆ ---          ┆ ---         ┆   ┆ ---         ┆ his_rout…   ┆ ---         ┆ str         │\n",
       "│ str          ┆              ┆ str          ┆ str         ┆   ┆ i64         ┆ ---         ┆ str         ┆             │\n",
       "│              ┆              ┆              ┆             ┆   ┆             ┆ str         ┆             ┆             │\n",
       "╞══════════════╪══════════════╪══════════════╪═════════════╪═══╪═════════════╪═════════════╪═════════════╪═════════════╡\n",
       "│ ALG          ┆ Algeria      ┆ AEP          ┆ Argentina   ┆ … ┆ 1320000     ┆ 1320000     ┆ 0%          ┆ 2022-04-29  │\n",
       "│              ┆              ┆              ┆             ┆   ┆             ┆             ┆             ┆ 17:52:59    │\n",
       "│ ALG          ┆ Algeria      ┆ AEP          ┆ Argentina   ┆ … ┆ 1195000     ┆ 1320000     ┆ -9%         ┆ 2022-04-29  │\n",
       "│              ┆              ┆              ┆             ┆   ┆             ┆             ┆             ┆ 17:52:59    │\n",
       "│ ALG          ┆ Algeria      ┆ AEP          ┆ Argentina   ┆ … ┆ 1248000     ┆ 1320000     ┆ -5%         ┆ 2022-04-29  │\n",
       "│              ┆              ┆              ┆             ┆   ┆             ┆             ┆             ┆ 17:52:59    │\n",
       "│ ALG          ┆ Algeria      ┆ AEP          ┆ Argentina   ┆ … ┆ 1347000     ┆ 1320000     ┆ 2%          ┆ 2022-04-29  │\n",
       "│              ┆              ┆              ┆             ┆   ┆             ┆             ┆             ┆ 17:52:59    │\n",
       "│ ALG          ┆ Algeria      ┆ AEP          ┆ Argentina   ┆ … ┆ 1381000     ┆ 1320000     ┆ 4%          ┆ 2022-04-29  │\n",
       "│              ┆              ┆              ┆             ┆   ┆             ┆             ┆             ┆ 17:52:59    │\n",
       "│ …            ┆ …            ┆ …            ┆ …           ┆ … ┆ …           ┆ …           ┆ …           ┆ …           │\n",
       "│ BOM          ┆ India        ┆ SYD          ┆ Australia   ┆ … ┆ 1567000     ┆ 1133000     ┆ 38%         ┆ 2022-04-29  │\n",
       "│              ┆              ┆              ┆             ┆   ┆             ┆             ┆             ┆ 17:52:59    │\n",
       "│ BOM          ┆ India        ┆ SYD          ┆ Australia   ┆ … ┆ 1583000     ┆ 1133000     ┆ 39%         ┆ 2022-04-29  │\n",
       "│              ┆              ┆              ┆             ┆   ┆             ┆             ┆             ┆ 17:52:59    │\n",
       "│ BOM          ┆ India        ┆ SYD          ┆ Australia   ┆ … ┆ 1354000     ┆ 1133000     ┆ 19%         ┆ 2022-04-29  │\n",
       "│              ┆              ┆              ┆             ┆   ┆             ┆             ┆             ┆ 17:52:59    │\n",
       "│ BOM          ┆ India        ┆ SYD          ┆ Australia   ┆ … ┆ 1099000     ┆ 1133000     ┆ -2%         ┆ 2022-04-29  │\n",
       "│              ┆              ┆              ┆             ┆   ┆             ┆             ┆             ┆ 17:52:59    │\n",
       "│ BOM          ┆ India        ┆ SYD          ┆ Australia   ┆ … ┆ 1099000     ┆ 1133000     ┆ -2%         ┆ 2022-04-29  │\n",
       "│              ┆              ┆              ┆             ┆   ┆             ┆             ┆             ┆ 17:52:59    │\n",
       "└──────────────┴──────────────┴──────────────┴─────────────┴───┴─────────────┴─────────────┴─────────────┴─────────────┘"
      ]
     },
     "execution_count": 219,
     "metadata": {},
     "output_type": "execute_result"
    }
   ],
   "source": [
    "cleaned_df1 = df.drop_nulls()\n",
    "cleaned_df"
   ]
  },
  {
   "cell_type": "code",
   "execution_count": 220,
   "id": "fde40571-763e-40b0-942a-bd4cb2343926",
   "metadata": {},
   "outputs": [
    {
     "data": {
      "text/html": [
       "<div><style>\n",
       ".dataframe > thead > tr,\n",
       ".dataframe > tbody > tr {\n",
       "  text-align: right;\n",
       "  white-space: pre-wrap;\n",
       "}\n",
       "</style>\n",
       "<small>shape: (992_718, 18)</small><table border=\"1\" class=\"dataframe\"><thead><tr><th>from_airport_code</th><th>from_country</th><th>dest_airport_code</th><th>dest_country</th><th>aircraft_type</th><th>airline_number</th><th>airline_name</th><th>flight_number</th><th>departure_time</th><th>arrival_time</th><th>duration</th><th>stops</th><th>price</th><th>currency</th><th>co2_emissions</th><th>avg_co2_emission_for_this_route</th><th>co2_percentage</th><th>scan_date</th></tr><tr><td>str</td><td>str</td><td>str</td><td>str</td><td>str</td><td>str</td><td>str</td><td>str</td><td>str</td><td>str</td><td>i64</td><td>i64</td><td>f64</td><td>str</td><td>i64</td><td>str</td><td>str</td><td>str</td></tr></thead><tbody><tr><td>&quot;ALG&quot;</td><td>&quot;Algeria&quot;</td><td>&quot;AEP&quot;</td><td>&quot;Argentina&quot;</td><td>&quot;Airbus A318|Canadair RJ 1000|A…</td><td>&quot;multi&quot;</td><td>&quot;[Air France| Iberia| LATAM]&quot;</td><td>&quot;AF1491|AF1491|AF1491|AF1491&quot;</td><td>&quot;2022-04-30 14:30:00&quot;</td><td>&quot;2022-05-01 10:15:00&quot;</td><td>1425</td><td>3</td><td>1279.0</td><td>&quot;USD&quot;</td><td>1320000</td><td>&quot;1320000&quot;</td><td>&quot;0%&quot;</td><td>&quot;2022-04-29 17:52:59&quot;</td></tr><tr><td>&quot;ALG&quot;</td><td>&quot;Algeria&quot;</td><td>&quot;AEP&quot;</td><td>&quot;Argentina&quot;</td><td>&quot;Airbus A318|Canadair RJ 1000|B…</td><td>&quot;multi&quot;</td><td>&quot;[Air France| Iberia| LATAM]&quot;</td><td>&quot;AF1491|AF1491|AF1491|AF1491&quot;</td><td>&quot;2022-04-30 14:30:00&quot;</td><td>&quot;2022-05-01 10:15:00&quot;</td><td>1425</td><td>3</td><td>1279.0</td><td>&quot;USD&quot;</td><td>1195000</td><td>&quot;1320000&quot;</td><td>&quot;-9%&quot;</td><td>&quot;2022-04-29 17:52:59&quot;</td></tr><tr><td>&quot;ALG&quot;</td><td>&quot;Algeria&quot;</td><td>&quot;AEP&quot;</td><td>&quot;Argentina&quot;</td><td>&quot;Airbus A320|Airbus A321|Boeing…</td><td>&quot;multi&quot;</td><td>&quot;[Air France| LATAM]&quot;</td><td>&quot;AF1855|AF1855|AF1855|AF1855&quot;</td><td>&quot;2022-04-30 12:45:00&quot;</td><td>&quot;2022-05-01 10:15:00&quot;</td><td>1530</td><td>3</td><td>1284.0</td><td>&quot;USD&quot;</td><td>1248000</td><td>&quot;1320000&quot;</td><td>&quot;-5%&quot;</td><td>&quot;2022-04-29 17:52:59&quot;</td></tr><tr><td>&quot;ALG&quot;</td><td>&quot;Algeria&quot;</td><td>&quot;AEP&quot;</td><td>&quot;Argentina&quot;</td><td>&quot;Airbus A318|Airbus A320|Boeing…</td><td>&quot;multi&quot;</td><td>&quot;[Air France| LATAM]&quot;</td><td>&quot;AF1491|AF1491|AF1491|AF1491&quot;</td><td>&quot;2022-04-30 14:30:00&quot;</td><td>&quot;2022-05-01 10:15:00&quot;</td><td>1425</td><td>3</td><td>1290.0</td><td>&quot;USD&quot;</td><td>1347000</td><td>&quot;1320000&quot;</td><td>&quot;2%&quot;</td><td>&quot;2022-04-29 17:52:59&quot;</td></tr><tr><td>&quot;ALG&quot;</td><td>&quot;Algeria&quot;</td><td>&quot;AEP&quot;</td><td>&quot;Argentina&quot;</td><td>&quot;Airbus A321neo|Boeing 777|Airb…</td><td>&quot;multi&quot;</td><td>&quot;[Lufthansa| LATAM]&quot;</td><td>&quot;LH1317|LH1317|LH1317&quot;</td><td>&quot;2022-04-30 12:35:00&quot;</td><td>&quot;2022-05-01 10:15:00&quot;</td><td>1540</td><td>2</td><td>1347.0</td><td>&quot;USD&quot;</td><td>1381000</td><td>&quot;1320000&quot;</td><td>&quot;4%&quot;</td><td>&quot;2022-04-29 17:52:59&quot;</td></tr><tr><td>&hellip;</td><td>&hellip;</td><td>&hellip;</td><td>&hellip;</td><td>&hellip;</td><td>&hellip;</td><td>&hellip;</td><td>&hellip;</td><td>&hellip;</td><td>&hellip;</td><td>&hellip;</td><td>&hellip;</td><td>&hellip;</td><td>&hellip;</td><td>&hellip;</td><td>&hellip;</td><td>&hellip;</td><td>&hellip;</td></tr><tr><td>&quot;BOM&quot;</td><td>&quot;India&quot;</td><td>&quot;SYD&quot;</td><td>&quot;Australia&quot;</td><td>&quot;Boeing 777|Airbus A380&quot;</td><td>&quot;EK&quot;</td><td>&quot;[Emirates]&quot;</td><td>&quot;EK503|EK503&quot;</td><td>&quot;2022-05-01 19:20:00&quot;</td><td>&quot;2022-05-02 22:05:00&quot;</td><td>1335</td><td>1</td><td>1317.0</td><td>&quot;USD&quot;</td><td>1567000</td><td>&quot;1133000&quot;</td><td>&quot;38%&quot;</td><td>&quot;2022-04-29 17:52:59&quot;</td></tr><tr><td>&quot;BOM&quot;</td><td>&quot;India&quot;</td><td>&quot;SYD&quot;</td><td>&quot;Australia&quot;</td><td>&quot;Boeing 777|Airbus A380&quot;</td><td>&quot;EK&quot;</td><td>&quot;[Emirates]&quot;</td><td>&quot;EK509|EK509&quot;</td><td>&quot;2022-05-01 22:20:00&quot;</td><td>&quot;2022-05-02 22:05:00&quot;</td><td>1155</td><td>1</td><td>1317.0</td><td>&quot;USD&quot;</td><td>1583000</td><td>&quot;1133000&quot;</td><td>&quot;39%&quot;</td><td>&quot;2022-04-29 17:52:59&quot;</td></tr><tr><td>&quot;BOM&quot;</td><td>&quot;India&quot;</td><td>&quot;SYD&quot;</td><td>&quot;Australia&quot;</td><td>&quot;Airbus A350|Boeing 787|Boeing …</td><td>&quot;multi&quot;</td><td>&quot;[Etihad| Virgin Australia]&quot;</td><td>&quot;EY205|EY205|EY205&quot;</td><td>&quot;2022-05-01 04:35:00&quot;</td><td>&quot;2022-05-02 09:55:00&quot;</td><td>1490</td><td>2</td><td>1328.0</td><td>&quot;USD&quot;</td><td>1354000</td><td>&quot;1133000&quot;</td><td>&quot;19%&quot;</td><td>&quot;2022-04-29 17:52:59&quot;</td></tr><tr><td>&quot;BOM&quot;</td><td>&quot;India&quot;</td><td>&quot;SYD&quot;</td><td>&quot;Australia&quot;</td><td>&quot;Airbus A321 (Sharklets)|Airbus…</td><td>&quot;multi&quot;</td><td>&quot;[Air India| SriLankan]&quot;</td><td>&quot;AI603|AI603|AI603&quot;</td><td>&quot;2022-05-01 06:10:00&quot;</td><td>&quot;2022-05-02 14:55:00&quot;</td><td>1695</td><td>2</td><td>1368.0</td><td>&quot;USD&quot;</td><td>1099000</td><td>&quot;1133000&quot;</td><td>&quot;-2%&quot;</td><td>&quot;2022-04-29 17:52:59&quot;</td></tr><tr><td>&quot;BOM&quot;</td><td>&quot;India&quot;</td><td>&quot;SYD&quot;</td><td>&quot;Australia&quot;</td><td>&quot;Airbus A321 (Sharklets)|Airbus…</td><td>&quot;multi&quot;</td><td>&quot;[Air India| SriLankan]&quot;</td><td>&quot;AI639|AI639|AI639&quot;</td><td>&quot;2022-05-01 09:30:00&quot;</td><td>&quot;2022-05-02 14:55:00&quot;</td><td>1495</td><td>2</td><td>1368.0</td><td>&quot;USD&quot;</td><td>1099000</td><td>&quot;1133000&quot;</td><td>&quot;-2%&quot;</td><td>&quot;2022-04-29 17:52:59&quot;</td></tr></tbody></table></div>"
      ],
      "text/plain": [
       "shape: (992_718, 18)\n",
       "┌──────────────┬──────────────┬──────────────┬─────────────┬───┬─────────────┬─────────────┬─────────────┬─────────────┐\n",
       "│ from_airport ┆ from_country ┆ dest_airport ┆ dest_countr ┆ … ┆ co2_emissio ┆ avg_co2_emi ┆ co2_percent ┆ scan_date   │\n",
       "│ _code        ┆ ---          ┆ _code        ┆ y           ┆   ┆ ns          ┆ ssion_for_t ┆ age         ┆ ---         │\n",
       "│ ---          ┆ str          ┆ ---          ┆ ---         ┆   ┆ ---         ┆ his_rout…   ┆ ---         ┆ str         │\n",
       "│ str          ┆              ┆ str          ┆ str         ┆   ┆ i64         ┆ ---         ┆ str         ┆             │\n",
       "│              ┆              ┆              ┆             ┆   ┆             ┆ str         ┆             ┆             │\n",
       "╞══════════════╪══════════════╪══════════════╪═════════════╪═══╪═════════════╪═════════════╪═════════════╪═════════════╡\n",
       "│ ALG          ┆ Algeria      ┆ AEP          ┆ Argentina   ┆ … ┆ 1320000     ┆ 1320000     ┆ 0%          ┆ 2022-04-29  │\n",
       "│              ┆              ┆              ┆             ┆   ┆             ┆             ┆             ┆ 17:52:59    │\n",
       "│ ALG          ┆ Algeria      ┆ AEP          ┆ Argentina   ┆ … ┆ 1195000     ┆ 1320000     ┆ -9%         ┆ 2022-04-29  │\n",
       "│              ┆              ┆              ┆             ┆   ┆             ┆             ┆             ┆ 17:52:59    │\n",
       "│ ALG          ┆ Algeria      ┆ AEP          ┆ Argentina   ┆ … ┆ 1248000     ┆ 1320000     ┆ -5%         ┆ 2022-04-29  │\n",
       "│              ┆              ┆              ┆             ┆   ┆             ┆             ┆             ┆ 17:52:59    │\n",
       "│ ALG          ┆ Algeria      ┆ AEP          ┆ Argentina   ┆ … ┆ 1347000     ┆ 1320000     ┆ 2%          ┆ 2022-04-29  │\n",
       "│              ┆              ┆              ┆             ┆   ┆             ┆             ┆             ┆ 17:52:59    │\n",
       "│ ALG          ┆ Algeria      ┆ AEP          ┆ Argentina   ┆ … ┆ 1381000     ┆ 1320000     ┆ 4%          ┆ 2022-04-29  │\n",
       "│              ┆              ┆              ┆             ┆   ┆             ┆             ┆             ┆ 17:52:59    │\n",
       "│ …            ┆ …            ┆ …            ┆ …           ┆ … ┆ …           ┆ …           ┆ …           ┆ …           │\n",
       "│ BOM          ┆ India        ┆ SYD          ┆ Australia   ┆ … ┆ 1567000     ┆ 1133000     ┆ 38%         ┆ 2022-04-29  │\n",
       "│              ┆              ┆              ┆             ┆   ┆             ┆             ┆             ┆ 17:52:59    │\n",
       "│ BOM          ┆ India        ┆ SYD          ┆ Australia   ┆ … ┆ 1583000     ┆ 1133000     ┆ 39%         ┆ 2022-04-29  │\n",
       "│              ┆              ┆              ┆             ┆   ┆             ┆             ┆             ┆ 17:52:59    │\n",
       "│ BOM          ┆ India        ┆ SYD          ┆ Australia   ┆ … ┆ 1354000     ┆ 1133000     ┆ 19%         ┆ 2022-04-29  │\n",
       "│              ┆              ┆              ┆             ┆   ┆             ┆             ┆             ┆ 17:52:59    │\n",
       "│ BOM          ┆ India        ┆ SYD          ┆ Australia   ┆ … ┆ 1099000     ┆ 1133000     ┆ -2%         ┆ 2022-04-29  │\n",
       "│              ┆              ┆              ┆             ┆   ┆             ┆             ┆             ┆ 17:52:59    │\n",
       "│ BOM          ┆ India        ┆ SYD          ┆ Australia   ┆ … ┆ 1099000     ┆ 1133000     ┆ -2%         ┆ 2022-04-29  │\n",
       "│              ┆              ┆              ┆             ┆   ┆             ┆             ┆             ┆ 17:52:59    │\n",
       "└──────────────┴──────────────┴──────────────┴─────────────┴───┴─────────────┴─────────────┴─────────────┴─────────────┘"
      ]
     },
     "execution_count": 220,
     "metadata": {},
     "output_type": "execute_result"
    }
   ],
   "source": [
    "cleaned_df2 = df.filter(pl.col(\"co2_emissions\").is_not_null())\n",
    "cleaned_df"
   ]
  },
  {
   "cell_type": "code",
   "execution_count": null,
   "id": "61cb2645-2dec-4d34-ba33-a9244bac384b",
   "metadata": {},
   "outputs": [],
   "source": []
  }
 ],
 "metadata": {
  "kernelspec": {
   "display_name": "Python 3 (ipykernel)",
   "language": "python",
   "name": "python3"
  },
  "language_info": {
   "codemirror_mode": {
    "name": "ipython",
    "version": 3
   },
   "file_extension": ".py",
   "mimetype": "text/x-python",
   "name": "python",
   "nbconvert_exporter": "python",
   "pygments_lexer": "ipython3",
   "version": "3.12.4"
  }
 },
 "nbformat": 4,
 "nbformat_minor": 5
}
